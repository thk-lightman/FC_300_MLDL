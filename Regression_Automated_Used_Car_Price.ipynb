{
  "nbformat": 4,
  "nbformat_minor": 0,
  "metadata": {
    "kernelspec": {
      "display_name": "Python 3",
      "language": "python",
      "name": "python3"
    },
    "language_info": {
      "codemirror_mode": {
        "name": "ipython",
        "version": 3
      },
      "file_extension": ".py",
      "mimetype": "text/x-python",
      "name": "python",
      "nbconvert_exporter": "python",
      "pygments_lexer": "ipython3",
      "version": "3.7.7"
    },
    "colab": {
      "name": "Regression_Automated Used Car Price.ipynb",
      "provenance": [],
      "collapsed_sections": [],
      "include_colab_link": true
    }
  },
  "cells": [
    {
      "cell_type": "markdown",
      "metadata": {
        "id": "view-in-github",
        "colab_type": "text"
      },
      "source": [
        "<a href=\"https://colab.research.google.com/github/thk-lightman/FC_300_MLDL/blob/master/Regression_Automated_Used_Car_Price.ipynb\" target=\"_parent\"><img src=\"https://colab.research.google.com/assets/colab-badge.svg\" alt=\"Open In Colab\"/></a>"
      ]
    },
    {
      "cell_type": "markdown",
      "metadata": {
        "id": "NqqLNJZjfi8U"
      },
      "source": [
        "# 주제 : 자동으로 모은 데이터는 분석하기 어렵다면서? 자동으로 모은 중고 자동차 데이터를 분석해보자!\n",
        "\n",
        "- 데이터 출처: https://www.kaggle.com/austinreese/craigslist-carstrucks-data\n",
        "\n",
        "## 데이터 소개\n",
        "    - 이번 주제는 Used Cars Dataset을 사용합니다.\n",
        "    - 파일은 한 개이며, 각각의 컬럼은 아래와 같습니다.\n",
        "    \n",
        "    - vehicles.csv\n",
        "    id : 중고차 거래의 아이디\n",
        "    url : 중고차 거래 페이지\n",
        "    region : 해당 거래의 관리 지점\n",
        "    region_url : 거래 관리 지점의 홈페이지\n",
        "    price : 기입된 자동차의 거래가\n",
        "    year : 거래가 기입된 년도\n",
        "    manufacturer : 자동차를 생산한 회사\n",
        "    model : 자동차 모델명\n",
        "    condition : 자동차의 상태\n",
        "    cylinders : 자동차의 기통 수\n",
        "    fuel : 자동차의 연료 타입\n",
        "    odometer : 자동차의 운행 마일 수\n",
        "    title_status : 자동차의 타이틀 상태 (소유주 등록 상태)\n",
        "    transmission : 자동차의 트랜스미션 종류\n",
        "    vin : 자동차의 식별 번호 (vehicle identification number)\n",
        "    drive : 자동차의 구동 타입\n",
        "    size : 자동차 크기\n",
        "    type : 자동차의 일반 타입 (세단, ...)\n",
        "    paint_color : 자동차 색상\n",
        "    image_url : 자동차 이미지\n",
        "    description : 세부 설명\n",
        "    county : 실수로 생성된 미사용 컬럼\n",
        "    state : 거래가 업로드된 미 주\n",
        "    lat : 거래가 업로드된 곳의 위도\n",
        "    long : 거래가 업로드된 곳의 경도\n",
        "    \n",
        "\n",
        "## 최종 목표\n",
        "    - 스크래핑된 dirty 데이터 클리닝 방법 이해\n",
        "    - 다양한 종류의 데이터 정규화 방법 습득\n",
        "    - 데이터 시각화를 통한 인사이트 습득 방법의 이해\n",
        "    - Scikit-learn 기반의 모델 학습 방법 습득\n",
        "    - XGBoost, LightGBM 기반의 모델 학습 방법 습득\n",
        "    - 학습된 모델의 평가 방법 및 시각화 방법 습득"
      ]
    },
    {
      "cell_type": "code",
      "metadata": {
        "colab": {
          "base_uri": "https://localhost:8080/"
        },
        "id": "bPq0EVFVTDIZ",
        "outputId": "21ef10aa-ff91-4db8-9621-c43200861308"
      },
      "source": [
        "from google.colab import drive\n",
        "drive.mount('/content/drive')"
      ],
      "execution_count": null,
      "outputs": [
        {
          "output_type": "stream",
          "name": "stdout",
          "text": [
            "Mounted at /content/drive\n"
          ]
        }
      ]
    },
    {
      "cell_type": "code",
      "metadata": {
        "colab": {
          "base_uri": "https://localhost:8080/"
        },
        "id": "rnz42Ri5TQat",
        "outputId": "02873250-6141-4ecb-b914-ddd499ba2a37"
      },
      "source": [
        "!pwd"
      ],
      "execution_count": null,
      "outputs": [
        {
          "output_type": "stream",
          "name": "stdout",
          "text": [
            "/content\n"
          ]
        }
      ]
    },
    {
      "cell_type": "markdown",
      "metadata": {
        "id": "ODJVmYvIP3x-"
      },
      "source": [
        "## Step 0. 데이터 스크래핑이 대하여"
      ]
    },
    {
      "cell_type": "markdown",
      "metadata": {
        "id": "ZZq_cEox5kT_"
      },
      "source": [
        "- 데이터 스크래핑 : 데이터를 긁어모아오는 것\n",
        "- 역사\n",
        "  - <단말, 어플리케이션> \n",
        "    - interface가 없는 경우(멀티미터): 카메라, OCR\n",
        "    - interface가 있는 경우: web interface(json, html) > celena, bs4\n",
        "\n",
        "- 데이터의 형식을 예측 -> 고정적으로 가져오기\n",
        "- 홈페이지의 데이터가 변동해서 예측이 잘 되지 않으면 잘못 분석될 여지가 큼\n",
        "- 특징\n",
        "  - 빈 데이터\n",
        "  - 아웃라이어\n",
        "  - 형식이 틀린 경우\n",
        "    - 문자열: 앞뒤 공백,html태그가 같이 포함,인코딩에 의해 깨진 문자\n",
        "    - 숫자형: 최대값/최소값으로 잘못 기입, 숫자 대신 문자열"
      ]
    },
    {
      "cell_type": "markdown",
      "metadata": {
        "id": "c0iKTnLNsraM"
      },
      "source": [
        "### 스크래핑을 이용한 자동 데이터 습득"
      ]
    },
    {
      "cell_type": "markdown",
      "metadata": {
        "id": "cxZwPnfms0-9"
      },
      "source": [
        "### 스크래핑된 데이터에서 아웃라이어의 특징\n"
      ]
    },
    {
      "cell_type": "markdown",
      "metadata": {
        "id": "IRssoNrgP7So"
      },
      "source": [
        "## Step 1. 데이터셋 준비하기"
      ]
    },
    {
      "cell_type": "code",
      "metadata": {
        "id": "g49RuFGrBvt7"
      },
      "source": [
        "import pandas as pd\n",
        "import numpy as np\n",
        "import matplotlib.pyplot as plt\n",
        "import seaborn as sns"
      ],
      "execution_count": null,
      "outputs": []
    },
    {
      "cell_type": "markdown",
      "metadata": {
        "id": "paInbv8Ys-Qy"
      },
      "source": [
        "### 문제 1. Colab Notebook에 Kaggle API 세팅하기\n"
      ]
    },
    {
      "cell_type": "code",
      "metadata": {
        "id": "RRXGYV60B7FX"
      },
      "source": [
        "# import os"
      ],
      "execution_count": null,
      "outputs": []
    },
    {
      "cell_type": "code",
      "metadata": {
        "id": "mMKFOC0OBtHO"
      },
      "source": [
        "# # os.environ을 이용하여 Kaggle API Username, Key 세팅하기\n",
        "# os.environ['KAGGLE_USERNAME'] = 'fastcampuskim'\n",
        "# os.environ['KAGGLE_KEY'] = 'c939a1e37f5ca93b6406a66fc8bb08e5'"
      ],
      "execution_count": null,
      "outputs": []
    },
    {
      "cell_type": "markdown",
      "metadata": {
        "id": "zvbeoB_WtBi-"
      },
      "source": [
        "### 문제 2. 데이터 다운로드 및 압축 해제하기\n"
      ]
    },
    {
      "cell_type": "code",
      "metadata": {
        "id": "JSblp2NsCGbh",
        "colab": {
          "base_uri": "https://localhost:8080/"
        },
        "outputId": "0d7c448a-5b9c-4a96-d129-77103052f0d1"
      },
      "source": [
        "# # Linux 명령어로 Kaggle API를 이용하여 데이터셋 다운로드하기 (!kaggle ~)\n",
        "# # Linux 명령어로 압축 해제하기\n",
        "# !rm *.*\n",
        "# !kaggle datasets download -d austinreese/craigslist-carstrucks-data\n",
        "# !unzip '*.zip'"
      ],
      "execution_count": null,
      "outputs": [
        {
          "output_type": "stream",
          "text": [
            "rm: cannot remove '*.*': No such file or directory\n",
            "Downloading craigslist-carstrucks-data.zip to /content\n",
            " 93% 249M/267M [00:02<00:00, 108MB/s]\n",
            "100% 267M/267M [00:02<00:00, 131MB/s]\n",
            "Archive:  craigslist-carstrucks-data.zip\n",
            "  inflating: vehicles.csv            \n"
          ],
          "name": "stdout"
        }
      ]
    },
    {
      "cell_type": "markdown",
      "metadata": {
        "id": "aJ34SovLtFI8"
      },
      "source": [
        "### 문제 3. Pandas 라이브러리로 csv파일 읽어들이기\n"
      ]
    },
    {
      "cell_type": "markdown",
      "metadata": {
        "id": "ExzNxB77NrIw"
      },
      "source": [
        "- 데이터가 크면 RAM이 쉽게 가득차서 세션이 뻗을 수 있다. 주의해야한다!"
      ]
    },
    {
      "cell_type": "code",
      "metadata": {
        "id": "RnJv-4YwCMSx"
      },
      "source": [
        "df = pd.read_csv('/content/drive/MyDrive/[Data Science]/[FC] 300/후보군/[회귀] 1 자동으로 모은 데이터는 분석하기 어렵다면서_ 자동으로 모은 중고 자동차 데이터를 분석해보자!/vehicles.csv')"
      ],
      "execution_count": 121,
      "outputs": []
    },
    {
      "cell_type": "markdown",
      "metadata": {
        "id": "9L3BNVM7tHN5"
      },
      "source": [
        "## Step 2. EDA 및 데이터 기초 통계 분석\n"
      ]
    },
    {
      "cell_type": "markdown",
      "metadata": {
        "id": "HyFm33tNtVn7"
      },
      "source": [
        "### 문제 4. 불필요한 데이터 데이터프레임에서 제거하기\n"
      ]
    },
    {
      "cell_type": "code",
      "metadata": {
        "id": "YcR9BX23DIFW",
        "colab": {
          "base_uri": "https://localhost:8080/",
          "height": 505
        },
        "outputId": "d797fb37-3a89-4fae-fb8e-5d608a57b3ea"
      },
      "source": [
        "# DataFrame에서 제공하는 메소드를 이용하여 각 데이터프레임의 구조 분석하기 (head(), info(), describe())\n",
        "# 데이터프레임에서 불필요한 컬럼 제거하기\n",
        "# 'year' 컬럼을 'age' 컬럼으로 변경하기\n",
        "df.head()\n",
        "\n",
        "#[★] description 자연어 처리를 이용해서 feature로 활용!!\n"
      ],
      "execution_count": null,
      "outputs": [
        {
          "output_type": "execute_result",
          "data": {
            "text/html": [
              "<div>\n",
              "<style scoped>\n",
              "    .dataframe tbody tr th:only-of-type {\n",
              "        vertical-align: middle;\n",
              "    }\n",
              "\n",
              "    .dataframe tbody tr th {\n",
              "        vertical-align: top;\n",
              "    }\n",
              "\n",
              "    .dataframe thead th {\n",
              "        text-align: right;\n",
              "    }\n",
              "</style>\n",
              "<table border=\"1\" class=\"dataframe\">\n",
              "  <thead>\n",
              "    <tr style=\"text-align: right;\">\n",
              "      <th></th>\n",
              "      <th>Unnamed: 0</th>\n",
              "      <th>id</th>\n",
              "      <th>url</th>\n",
              "      <th>region</th>\n",
              "      <th>region_url</th>\n",
              "      <th>price</th>\n",
              "      <th>year</th>\n",
              "      <th>manufacturer</th>\n",
              "      <th>model</th>\n",
              "      <th>condition</th>\n",
              "      <th>cylinders</th>\n",
              "      <th>fuel</th>\n",
              "      <th>odometer</th>\n",
              "      <th>title_status</th>\n",
              "      <th>transmission</th>\n",
              "      <th>VIN</th>\n",
              "      <th>drive</th>\n",
              "      <th>size</th>\n",
              "      <th>type</th>\n",
              "      <th>paint_color</th>\n",
              "      <th>image_url</th>\n",
              "      <th>description</th>\n",
              "      <th>state</th>\n",
              "      <th>lat</th>\n",
              "      <th>long</th>\n",
              "      <th>posting_date</th>\n",
              "    </tr>\n",
              "  </thead>\n",
              "  <tbody>\n",
              "    <tr>\n",
              "      <th>0</th>\n",
              "      <td>0</td>\n",
              "      <td>7240372487</td>\n",
              "      <td>https://auburn.craigslist.org/ctd/d/auburn-uni...</td>\n",
              "      <td>auburn</td>\n",
              "      <td>https://auburn.craigslist.org</td>\n",
              "      <td>35990</td>\n",
              "      <td>2010.0</td>\n",
              "      <td>chevrolet</td>\n",
              "      <td>corvette grand sport</td>\n",
              "      <td>good</td>\n",
              "      <td>8 cylinders</td>\n",
              "      <td>gas</td>\n",
              "      <td>32742.0</td>\n",
              "      <td>clean</td>\n",
              "      <td>other</td>\n",
              "      <td>1G1YU3DW1A5106980</td>\n",
              "      <td>rwd</td>\n",
              "      <td>NaN</td>\n",
              "      <td>other</td>\n",
              "      <td>NaN</td>\n",
              "      <td>https://images.craigslist.org/00N0N_ipkbHVZYf4...</td>\n",
              "      <td>Carvana is the safer way to buy a car During t...</td>\n",
              "      <td>al</td>\n",
              "      <td>32.590000</td>\n",
              "      <td>-85.480000</td>\n",
              "      <td>2020-12-02T08:11:30-0600</td>\n",
              "    </tr>\n",
              "    <tr>\n",
              "      <th>1</th>\n",
              "      <td>1</td>\n",
              "      <td>7240309422</td>\n",
              "      <td>https://auburn.craigslist.org/cto/d/auburn-201...</td>\n",
              "      <td>auburn</td>\n",
              "      <td>https://auburn.craigslist.org</td>\n",
              "      <td>7500</td>\n",
              "      <td>2014.0</td>\n",
              "      <td>hyundai</td>\n",
              "      <td>sonata</td>\n",
              "      <td>excellent</td>\n",
              "      <td>4 cylinders</td>\n",
              "      <td>gas</td>\n",
              "      <td>93600.0</td>\n",
              "      <td>clean</td>\n",
              "      <td>automatic</td>\n",
              "      <td>5NPEC4AB0EH813529</td>\n",
              "      <td>fwd</td>\n",
              "      <td>NaN</td>\n",
              "      <td>sedan</td>\n",
              "      <td>NaN</td>\n",
              "      <td>https://images.craigslist.org/00s0s_gBHYmJ5o7y...</td>\n",
              "      <td>I'll move to another city and try to sell my c...</td>\n",
              "      <td>al</td>\n",
              "      <td>32.547500</td>\n",
              "      <td>-85.468200</td>\n",
              "      <td>2020-12-02T02:11:50-0600</td>\n",
              "    </tr>\n",
              "    <tr>\n",
              "      <th>2</th>\n",
              "      <td>2</td>\n",
              "      <td>7240224296</td>\n",
              "      <td>https://auburn.craigslist.org/cto/d/auburn-200...</td>\n",
              "      <td>auburn</td>\n",
              "      <td>https://auburn.craigslist.org</td>\n",
              "      <td>4900</td>\n",
              "      <td>2006.0</td>\n",
              "      <td>bmw</td>\n",
              "      <td>x3 3.0i</td>\n",
              "      <td>good</td>\n",
              "      <td>6 cylinders</td>\n",
              "      <td>gas</td>\n",
              "      <td>87046.0</td>\n",
              "      <td>clean</td>\n",
              "      <td>automatic</td>\n",
              "      <td>NaN</td>\n",
              "      <td>NaN</td>\n",
              "      <td>NaN</td>\n",
              "      <td>SUV</td>\n",
              "      <td>blue</td>\n",
              "      <td>https://images.craigslist.org/00B0B_5zgEGWPOrt...</td>\n",
              "      <td>Clean 2006 BMW X3 3.0I.  Beautiful and rare Bl...</td>\n",
              "      <td>al</td>\n",
              "      <td>32.616807</td>\n",
              "      <td>-85.464149</td>\n",
              "      <td>2020-12-01T19:50:41-0600</td>\n",
              "    </tr>\n",
              "    <tr>\n",
              "      <th>3</th>\n",
              "      <td>3</td>\n",
              "      <td>7240103965</td>\n",
              "      <td>https://auburn.craigslist.org/cto/d/lanett-tru...</td>\n",
              "      <td>auburn</td>\n",
              "      <td>https://auburn.craigslist.org</td>\n",
              "      <td>2000</td>\n",
              "      <td>1974.0</td>\n",
              "      <td>chevrolet</td>\n",
              "      <td>c-10</td>\n",
              "      <td>good</td>\n",
              "      <td>4 cylinders</td>\n",
              "      <td>gas</td>\n",
              "      <td>190000.0</td>\n",
              "      <td>clean</td>\n",
              "      <td>automatic</td>\n",
              "      <td>NaN</td>\n",
              "      <td>rwd</td>\n",
              "      <td>full-size</td>\n",
              "      <td>pickup</td>\n",
              "      <td>blue</td>\n",
              "      <td>https://images.craigslist.org/00M0M_6o7KcDpArw...</td>\n",
              "      <td>1974 chev. truck (LONG BED) NEW starter front ...</td>\n",
              "      <td>al</td>\n",
              "      <td>32.861600</td>\n",
              "      <td>-85.216100</td>\n",
              "      <td>2020-12-01T15:54:45-0600</td>\n",
              "    </tr>\n",
              "    <tr>\n",
              "      <th>4</th>\n",
              "      <td>4</td>\n",
              "      <td>7239983776</td>\n",
              "      <td>https://auburn.craigslist.org/cto/d/auburn-200...</td>\n",
              "      <td>auburn</td>\n",
              "      <td>https://auburn.craigslist.org</td>\n",
              "      <td>19500</td>\n",
              "      <td>2005.0</td>\n",
              "      <td>ford</td>\n",
              "      <td>f350 lariat</td>\n",
              "      <td>excellent</td>\n",
              "      <td>8 cylinders</td>\n",
              "      <td>diesel</td>\n",
              "      <td>116000.0</td>\n",
              "      <td>lien</td>\n",
              "      <td>automatic</td>\n",
              "      <td>NaN</td>\n",
              "      <td>4wd</td>\n",
              "      <td>full-size</td>\n",
              "      <td>pickup</td>\n",
              "      <td>blue</td>\n",
              "      <td>https://images.craigslist.org/00p0p_b95l1EgUfl...</td>\n",
              "      <td>2005 Ford F350 Lariat (Bullet Proofed). This t...</td>\n",
              "      <td>al</td>\n",
              "      <td>32.547500</td>\n",
              "      <td>-85.468200</td>\n",
              "      <td>2020-12-01T12:53:56-0600</td>\n",
              "    </tr>\n",
              "  </tbody>\n",
              "</table>\n",
              "</div>"
            ],
            "text/plain": [
              "   Unnamed: 0          id  ...       long              posting_date\n",
              "0           0  7240372487  ... -85.480000  2020-12-02T08:11:30-0600\n",
              "1           1  7240309422  ... -85.468200  2020-12-02T02:11:50-0600\n",
              "2           2  7240224296  ... -85.464149  2020-12-01T19:50:41-0600\n",
              "3           3  7240103965  ... -85.216100  2020-12-01T15:54:45-0600\n",
              "4           4  7239983776  ... -85.468200  2020-12-01T12:53:56-0600\n",
              "\n",
              "[5 rows x 26 columns]"
            ]
          },
          "metadata": {},
          "execution_count": 3
        }
      ]
    },
    {
      "cell_type": "code",
      "metadata": {
        "colab": {
          "base_uri": "https://localhost:8080/"
        },
        "id": "wrAt0umqepBE",
        "outputId": "196538d5-ad06-4f6f-a5ec-3d0dfb2f5ed2"
      },
      "source": [
        "df.info()\n",
        "#[★] df.info > dtype / 명목형, 순서형, 수치형으로 나눠놓기"
      ],
      "execution_count": null,
      "outputs": [
        {
          "output_type": "stream",
          "name": "stdout",
          "text": [
            "<class 'pandas.core.frame.DataFrame'>\n",
            "RangeIndex: 458213 entries, 0 to 458212\n",
            "Data columns (total 26 columns):\n",
            " #   Column        Non-Null Count   Dtype  \n",
            "---  ------        --------------   -----  \n",
            " 0   Unnamed: 0    458213 non-null  int64  \n",
            " 1   id            458213 non-null  int64  \n",
            " 2   url           458213 non-null  object \n",
            " 3   region        458213 non-null  object \n",
            " 4   region_url    458213 non-null  object \n",
            " 5   price         458213 non-null  int64  \n",
            " 6   year          457163 non-null  float64\n",
            " 7   manufacturer  439993 non-null  object \n",
            " 8   model         453367 non-null  object \n",
            " 9   condition     265273 non-null  object \n",
            " 10  cylinders     287073 non-null  object \n",
            " 11  fuel          454976 non-null  object \n",
            " 12  odometer      402910 non-null  float64\n",
            " 13  title_status  455636 non-null  object \n",
            " 14  transmission  455771 non-null  object \n",
            " 15  VIN           270664 non-null  object \n",
            " 16  drive         324025 non-null  object \n",
            " 17  size          136865 non-null  object \n",
            " 18  type          345475 non-null  object \n",
            " 19  paint_color   317370 non-null  object \n",
            " 20  image_url     458185 non-null  object \n",
            " 21  description   458143 non-null  object \n",
            " 22  state         458213 non-null  object \n",
            " 23  lat           450765 non-null  float64\n",
            " 24  long          450765 non-null  float64\n",
            " 25  posting_date  458185 non-null  object \n",
            "dtypes: float64(4), int64(3), object(19)\n",
            "memory usage: 90.9+ MB\n"
          ]
        }
      ]
    },
    {
      "cell_type": "code",
      "metadata": {
        "colab": {
          "base_uri": "https://localhost:8080/"
        },
        "id": "nBvh86wae4-M",
        "outputId": "03983c98-0e0b-425b-b5a9-074d463c0cc4"
      },
      "source": [
        "df.isnull().sum()\n",
        "#[★]비어있는 열을 버릴거냐? 행을 버릴거냐 ?\n",
        "#condition, size, paint.. "
      ],
      "execution_count": null,
      "outputs": [
        {
          "output_type": "execute_result",
          "data": {
            "text/plain": [
              "Unnamed: 0           0\n",
              "id                   0\n",
              "url                  0\n",
              "region               0\n",
              "region_url           0\n",
              "price                0\n",
              "year              1050\n",
              "manufacturer     18220\n",
              "model             4846\n",
              "condition       192940\n",
              "cylinders       171140\n",
              "fuel              3237\n",
              "odometer         55303\n",
              "title_status      2577\n",
              "transmission      2442\n",
              "VIN             187549\n",
              "drive           134188\n",
              "size            321348\n",
              "type            112738\n",
              "paint_color     140843\n",
              "image_url           28\n",
              "description         70\n",
              "state                0\n",
              "lat               7448\n",
              "long              7448\n",
              "posting_date        28\n",
              "dtype: int64"
            ]
          },
          "metadata": {},
          "execution_count": 5
        }
      ]
    },
    {
      "cell_type": "code",
      "metadata": {
        "colab": {
          "base_uri": "https://localhost:8080/",
          "height": 294
        },
        "id": "CZgOJWxCeqQM",
        "outputId": "7727e464-25bb-493a-d18c-00aec3b2964b"
      },
      "source": [
        "df.describe()\n",
        "#[★] df.describe > 아웃라이어 체크 : 평균과 최대 최소 비교 ~"
      ],
      "execution_count": null,
      "outputs": [
        {
          "output_type": "execute_result",
          "data": {
            "text/html": [
              "<div>\n",
              "<style scoped>\n",
              "    .dataframe tbody tr th:only-of-type {\n",
              "        vertical-align: middle;\n",
              "    }\n",
              "\n",
              "    .dataframe tbody tr th {\n",
              "        vertical-align: top;\n",
              "    }\n",
              "\n",
              "    .dataframe thead th {\n",
              "        text-align: right;\n",
              "    }\n",
              "</style>\n",
              "<table border=\"1\" class=\"dataframe\">\n",
              "  <thead>\n",
              "    <tr style=\"text-align: right;\">\n",
              "      <th></th>\n",
              "      <th>Unnamed: 0</th>\n",
              "      <th>id</th>\n",
              "      <th>price</th>\n",
              "      <th>year</th>\n",
              "      <th>odometer</th>\n",
              "      <th>lat</th>\n",
              "      <th>long</th>\n",
              "    </tr>\n",
              "  </thead>\n",
              "  <tbody>\n",
              "    <tr>\n",
              "      <th>count</th>\n",
              "      <td>458213.000000</td>\n",
              "      <td>4.582130e+05</td>\n",
              "      <td>4.582130e+05</td>\n",
              "      <td>457163.000000</td>\n",
              "      <td>4.029100e+05</td>\n",
              "      <td>450765.000000</td>\n",
              "      <td>450765.000000</td>\n",
              "    </tr>\n",
              "    <tr>\n",
              "      <th>mean</th>\n",
              "      <td>229106.000000</td>\n",
              "      <td>7.235233e+09</td>\n",
              "      <td>4.042093e+04</td>\n",
              "      <td>2010.746067</td>\n",
              "      <td>1.016698e+05</td>\n",
              "      <td>38.531925</td>\n",
              "      <td>-94.375824</td>\n",
              "    </tr>\n",
              "    <tr>\n",
              "      <th>std</th>\n",
              "      <td>132274.843786</td>\n",
              "      <td>4.594362e+06</td>\n",
              "      <td>8.194599e+06</td>\n",
              "      <td>8.868136</td>\n",
              "      <td>3.228623e+06</td>\n",
              "      <td>5.857378</td>\n",
              "      <td>18.076225</td>\n",
              "    </tr>\n",
              "    <tr>\n",
              "      <th>min</th>\n",
              "      <td>0.000000</td>\n",
              "      <td>7.208550e+09</td>\n",
              "      <td>0.000000e+00</td>\n",
              "      <td>1900.000000</td>\n",
              "      <td>0.000000e+00</td>\n",
              "      <td>-82.607549</td>\n",
              "      <td>-164.091797</td>\n",
              "    </tr>\n",
              "    <tr>\n",
              "      <th>25%</th>\n",
              "      <td>114553.000000</td>\n",
              "      <td>7.231953e+09</td>\n",
              "      <td>4.900000e+03</td>\n",
              "      <td>2008.000000</td>\n",
              "      <td>4.087700e+04</td>\n",
              "      <td>34.600000</td>\n",
              "      <td>-110.890427</td>\n",
              "    </tr>\n",
              "    <tr>\n",
              "      <th>50%</th>\n",
              "      <td>229106.000000</td>\n",
              "      <td>7.236409e+09</td>\n",
              "      <td>1.099500e+04</td>\n",
              "      <td>2013.000000</td>\n",
              "      <td>8.764100e+04</td>\n",
              "      <td>39.244500</td>\n",
              "      <td>-88.314889</td>\n",
              "    </tr>\n",
              "    <tr>\n",
              "      <th>75%</th>\n",
              "      <td>343659.000000</td>\n",
              "      <td>7.239321e+09</td>\n",
              "      <td>2.149500e+04</td>\n",
              "      <td>2016.000000</td>\n",
              "      <td>1.340000e+05</td>\n",
              "      <td>42.484503</td>\n",
              "      <td>-81.015022</td>\n",
              "    </tr>\n",
              "    <tr>\n",
              "      <th>max</th>\n",
              "      <td>458212.000000</td>\n",
              "      <td>7.241019e+09</td>\n",
              "      <td>3.615215e+09</td>\n",
              "      <td>2021.000000</td>\n",
              "      <td>2.043756e+09</td>\n",
              "      <td>82.049255</td>\n",
              "      <td>150.898969</td>\n",
              "    </tr>\n",
              "  </tbody>\n",
              "</table>\n",
              "</div>"
            ],
            "text/plain": [
              "          Unnamed: 0            id  ...            lat           long\n",
              "count  458213.000000  4.582130e+05  ...  450765.000000  450765.000000\n",
              "mean   229106.000000  7.235233e+09  ...      38.531925     -94.375824\n",
              "std    132274.843786  4.594362e+06  ...       5.857378      18.076225\n",
              "min         0.000000  7.208550e+09  ...     -82.607549    -164.091797\n",
              "25%    114553.000000  7.231953e+09  ...      34.600000    -110.890427\n",
              "50%    229106.000000  7.236409e+09  ...      39.244500     -88.314889\n",
              "75%    343659.000000  7.239321e+09  ...      42.484503     -81.015022\n",
              "max    458212.000000  7.241019e+09  ...      82.049255     150.898969\n",
              "\n",
              "[8 rows x 7 columns]"
            ]
          },
          "metadata": {},
          "execution_count": 6
        }
      ]
    },
    {
      "cell_type": "code",
      "metadata": {
        "colab": {
          "base_uri": "https://localhost:8080/"
        },
        "id": "L8wA97m-glfb",
        "outputId": "c3f0f3ea-c1dc-4034-b67b-2e9fca68894b"
      },
      "source": [
        "df.columns"
      ],
      "execution_count": null,
      "outputs": [
        {
          "output_type": "execute_result",
          "data": {
            "text/plain": [
              "Index(['Unnamed: 0', 'id', 'url', 'region', 'region_url', 'price', 'year',\n",
              "       'manufacturer', 'model', 'condition', 'cylinders', 'fuel', 'odometer',\n",
              "       'title_status', 'transmission', 'VIN', 'drive', 'size', 'type',\n",
              "       'paint_color', 'image_url', 'description', 'state', 'lat', 'long',\n",
              "       'posting_date'],\n",
              "      dtype='object')"
            ]
          },
          "metadata": {},
          "execution_count": 7
        }
      ]
    },
    {
      "cell_type": "code",
      "metadata": {
        "id": "6_BXmNVqgm-a"
      },
      "source": [
        "df.drop(['Unnamed: 0', 'id', 'url', 'region_url', 'VIN',\n",
        "         'image_url', 'description', 'state', 'lat', \n",
        "         'long', 'posting_date'], axis=1, inplace=True)"
      ],
      "execution_count": 123,
      "outputs": []
    },
    {
      "cell_type": "code",
      "metadata": {
        "id": "6bpJLiYQhREP"
      },
      "source": [
        "df['age'] = 2021 - df['year']\n",
        "df.drop('year', axis=1, inplace=True)"
      ],
      "execution_count": 122,
      "outputs": []
    },
    {
      "cell_type": "code",
      "metadata": {
        "colab": {
          "base_uri": "https://localhost:8080/",
          "height": 567
        },
        "id": "QpTcGhoahZF3",
        "outputId": "81b53fba-4f69-4ee0-e877-b0729092178e"
      },
      "source": [
        "df"
      ],
      "execution_count": null,
      "outputs": [
        {
          "output_type": "execute_result",
          "data": {
            "text/html": [
              "<div>\n",
              "<style scoped>\n",
              "    .dataframe tbody tr th:only-of-type {\n",
              "        vertical-align: middle;\n",
              "    }\n",
              "\n",
              "    .dataframe tbody tr th {\n",
              "        vertical-align: top;\n",
              "    }\n",
              "\n",
              "    .dataframe thead th {\n",
              "        text-align: right;\n",
              "    }\n",
              "</style>\n",
              "<table border=\"1\" class=\"dataframe\">\n",
              "  <thead>\n",
              "    <tr style=\"text-align: right;\">\n",
              "      <th></th>\n",
              "      <th>region</th>\n",
              "      <th>price</th>\n",
              "      <th>manufacturer</th>\n",
              "      <th>model</th>\n",
              "      <th>condition</th>\n",
              "      <th>cylinders</th>\n",
              "      <th>fuel</th>\n",
              "      <th>odometer</th>\n",
              "      <th>title_status</th>\n",
              "      <th>transmission</th>\n",
              "      <th>drive</th>\n",
              "      <th>size</th>\n",
              "      <th>type</th>\n",
              "      <th>paint_color</th>\n",
              "      <th>age</th>\n",
              "    </tr>\n",
              "  </thead>\n",
              "  <tbody>\n",
              "    <tr>\n",
              "      <th>0</th>\n",
              "      <td>auburn</td>\n",
              "      <td>35990</td>\n",
              "      <td>chevrolet</td>\n",
              "      <td>corvette grand sport</td>\n",
              "      <td>good</td>\n",
              "      <td>8 cylinders</td>\n",
              "      <td>gas</td>\n",
              "      <td>32742.0</td>\n",
              "      <td>clean</td>\n",
              "      <td>other</td>\n",
              "      <td>rwd</td>\n",
              "      <td>NaN</td>\n",
              "      <td>other</td>\n",
              "      <td>NaN</td>\n",
              "      <td>11.0</td>\n",
              "    </tr>\n",
              "    <tr>\n",
              "      <th>1</th>\n",
              "      <td>auburn</td>\n",
              "      <td>7500</td>\n",
              "      <td>hyundai</td>\n",
              "      <td>sonata</td>\n",
              "      <td>excellent</td>\n",
              "      <td>4 cylinders</td>\n",
              "      <td>gas</td>\n",
              "      <td>93600.0</td>\n",
              "      <td>clean</td>\n",
              "      <td>automatic</td>\n",
              "      <td>fwd</td>\n",
              "      <td>NaN</td>\n",
              "      <td>sedan</td>\n",
              "      <td>NaN</td>\n",
              "      <td>7.0</td>\n",
              "    </tr>\n",
              "    <tr>\n",
              "      <th>2</th>\n",
              "      <td>auburn</td>\n",
              "      <td>4900</td>\n",
              "      <td>bmw</td>\n",
              "      <td>x3 3.0i</td>\n",
              "      <td>good</td>\n",
              "      <td>6 cylinders</td>\n",
              "      <td>gas</td>\n",
              "      <td>87046.0</td>\n",
              "      <td>clean</td>\n",
              "      <td>automatic</td>\n",
              "      <td>NaN</td>\n",
              "      <td>NaN</td>\n",
              "      <td>SUV</td>\n",
              "      <td>blue</td>\n",
              "      <td>15.0</td>\n",
              "    </tr>\n",
              "    <tr>\n",
              "      <th>3</th>\n",
              "      <td>auburn</td>\n",
              "      <td>2000</td>\n",
              "      <td>chevrolet</td>\n",
              "      <td>c-10</td>\n",
              "      <td>good</td>\n",
              "      <td>4 cylinders</td>\n",
              "      <td>gas</td>\n",
              "      <td>190000.0</td>\n",
              "      <td>clean</td>\n",
              "      <td>automatic</td>\n",
              "      <td>rwd</td>\n",
              "      <td>full-size</td>\n",
              "      <td>pickup</td>\n",
              "      <td>blue</td>\n",
              "      <td>47.0</td>\n",
              "    </tr>\n",
              "    <tr>\n",
              "      <th>4</th>\n",
              "      <td>auburn</td>\n",
              "      <td>19500</td>\n",
              "      <td>ford</td>\n",
              "      <td>f350 lariat</td>\n",
              "      <td>excellent</td>\n",
              "      <td>8 cylinders</td>\n",
              "      <td>diesel</td>\n",
              "      <td>116000.0</td>\n",
              "      <td>lien</td>\n",
              "      <td>automatic</td>\n",
              "      <td>4wd</td>\n",
              "      <td>full-size</td>\n",
              "      <td>pickup</td>\n",
              "      <td>blue</td>\n",
              "      <td>16.0</td>\n",
              "    </tr>\n",
              "    <tr>\n",
              "      <th>...</th>\n",
              "      <td>...</td>\n",
              "      <td>...</td>\n",
              "      <td>...</td>\n",
              "      <td>...</td>\n",
              "      <td>...</td>\n",
              "      <td>...</td>\n",
              "      <td>...</td>\n",
              "      <td>...</td>\n",
              "      <td>...</td>\n",
              "      <td>...</td>\n",
              "      <td>...</td>\n",
              "      <td>...</td>\n",
              "      <td>...</td>\n",
              "      <td>...</td>\n",
              "      <td>...</td>\n",
              "    </tr>\n",
              "    <tr>\n",
              "      <th>458208</th>\n",
              "      <td>wausau</td>\n",
              "      <td>14995</td>\n",
              "      <td>cadillac</td>\n",
              "      <td>srx</td>\n",
              "      <td>excellent</td>\n",
              "      <td>6 cylinders</td>\n",
              "      <td>gas</td>\n",
              "      <td>83790.0</td>\n",
              "      <td>clean</td>\n",
              "      <td>automatic</td>\n",
              "      <td>4wd</td>\n",
              "      <td>mid-size</td>\n",
              "      <td>SUV</td>\n",
              "      <td>silver</td>\n",
              "      <td>7.0</td>\n",
              "    </tr>\n",
              "    <tr>\n",
              "      <th>458209</th>\n",
              "      <td>wausau</td>\n",
              "      <td>17895</td>\n",
              "      <td>hyundai</td>\n",
              "      <td>tucson</td>\n",
              "      <td>excellent</td>\n",
              "      <td>4 cylinders</td>\n",
              "      <td>gas</td>\n",
              "      <td>31888.0</td>\n",
              "      <td>clean</td>\n",
              "      <td>automatic</td>\n",
              "      <td>4wd</td>\n",
              "      <td>mid-size</td>\n",
              "      <td>SUV</td>\n",
              "      <td>white</td>\n",
              "      <td>3.0</td>\n",
              "    </tr>\n",
              "    <tr>\n",
              "      <th>458210</th>\n",
              "      <td>wyoming</td>\n",
              "      <td>17900</td>\n",
              "      <td>cadillac</td>\n",
              "      <td>cts coupe awd</td>\n",
              "      <td>excellent</td>\n",
              "      <td>6 cylinders</td>\n",
              "      <td>gas</td>\n",
              "      <td>53000.0</td>\n",
              "      <td>clean</td>\n",
              "      <td>automatic</td>\n",
              "      <td>4wd</td>\n",
              "      <td>mid-size</td>\n",
              "      <td>coupe</td>\n",
              "      <td>black</td>\n",
              "      <td>7.0</td>\n",
              "    </tr>\n",
              "    <tr>\n",
              "      <th>458211</th>\n",
              "      <td>wyoming</td>\n",
              "      <td>1300</td>\n",
              "      <td>jeep</td>\n",
              "      <td>grand cherokee</td>\n",
              "      <td>good</td>\n",
              "      <td>8 cylinders</td>\n",
              "      <td>gas</td>\n",
              "      <td>164000.0</td>\n",
              "      <td>clean</td>\n",
              "      <td>automatic</td>\n",
              "      <td>4wd</td>\n",
              "      <td>mid-size</td>\n",
              "      <td>SUV</td>\n",
              "      <td>white</td>\n",
              "      <td>13.0</td>\n",
              "    </tr>\n",
              "    <tr>\n",
              "      <th>458212</th>\n",
              "      <td>wyoming</td>\n",
              "      <td>22900</td>\n",
              "      <td>NaN</td>\n",
              "      <td>International 4300</td>\n",
              "      <td>NaN</td>\n",
              "      <td>NaN</td>\n",
              "      <td>diesel</td>\n",
              "      <td>164000.0</td>\n",
              "      <td>clean</td>\n",
              "      <td>automatic</td>\n",
              "      <td>NaN</td>\n",
              "      <td>NaN</td>\n",
              "      <td>NaN</td>\n",
              "      <td>NaN</td>\n",
              "      <td>13.0</td>\n",
              "    </tr>\n",
              "  </tbody>\n",
              "</table>\n",
              "<p>458213 rows × 15 columns</p>\n",
              "</div>"
            ],
            "text/plain": [
              "         region  price manufacturer  ...    type paint_color   age\n",
              "0        auburn  35990    chevrolet  ...   other         NaN  11.0\n",
              "1        auburn   7500      hyundai  ...   sedan         NaN   7.0\n",
              "2        auburn   4900          bmw  ...     SUV        blue  15.0\n",
              "3        auburn   2000    chevrolet  ...  pickup        blue  47.0\n",
              "4        auburn  19500         ford  ...  pickup        blue  16.0\n",
              "...         ...    ...          ...  ...     ...         ...   ...\n",
              "458208   wausau  14995     cadillac  ...     SUV      silver   7.0\n",
              "458209   wausau  17895      hyundai  ...     SUV       white   3.0\n",
              "458210  wyoming  17900     cadillac  ...   coupe       black   7.0\n",
              "458211  wyoming   1300         jeep  ...     SUV       white  13.0\n",
              "458212  wyoming  22900          NaN  ...     NaN         NaN  13.0\n",
              "\n",
              "[458213 rows x 15 columns]"
            ]
          },
          "metadata": {},
          "execution_count": 10
        }
      ]
    },
    {
      "cell_type": "markdown",
      "metadata": {
        "id": "HGHvPwkNtXgj"
      },
      "source": [
        "### 문제 5. 범주형 데이터의 통계 분석하기\n",
        "- 10개 카테고리 이상 : 적은 라벨로 바꾸기\n",
        "- 10개 카테고리 미만 : OneHotEncoding\n",
        "- countplot\n",
        "  - object형인 자료\n",
        "  - object형이라도 id적인 특성을 나타내는건 볼 필요 없음\n",
        "  - 수치형이라도 개수가 적은 자료: 어떻게 변환하고 묶을까\n",
        "  "
      ]
    },
    {
      "cell_type": "code",
      "metadata": {
        "colab": {
          "base_uri": "https://localhost:8080/"
        },
        "id": "VjJsAnRrhq_n",
        "outputId": "5bad91f6-18d2-448c-8d42-36161f3d55d7"
      },
      "source": [
        "df.columns"
      ],
      "execution_count": null,
      "outputs": [
        {
          "output_type": "execute_result",
          "data": {
            "text/plain": [
              "Index(['region', 'price', 'manufacturer', 'model', 'condition', 'cylinders',\n",
              "       'fuel', 'odometer', 'title_status', 'transmission', 'drive', 'size',\n",
              "       'type', 'paint_color', 'age'],\n",
              "      dtype='object')"
            ]
          },
          "metadata": {},
          "execution_count": 11
        }
      ]
    },
    {
      "cell_type": "code",
      "metadata": {
        "id": "b_zcrUDF7khF",
        "colab": {
          "base_uri": "https://localhost:8080/"
        },
        "outputId": "bc37a89d-7983-45a6-fe5b-a819f5c4a5e9"
      },
      "source": [
        "# 범주형 데이터의 값의 범위, 기초 통계 분석하기\n",
        "len(df['manufacturer'].value_counts())"
      ],
      "execution_count": null,
      "outputs": [
        {
          "output_type": "execute_result",
          "data": {
            "text/plain": [
              "43"
            ]
          },
          "metadata": {},
          "execution_count": 12
        }
      ]
    },
    {
      "cell_type": "code",
      "metadata": {
        "colab": {
          "base_uri": "https://localhost:8080/"
        },
        "id": "2KYmVIfqh7OK",
        "outputId": "7bb891c9-f291-4feb-fb1d-1dd017cebf52"
      },
      "source": [
        "df['manufacturer'].value_counts()"
      ],
      "execution_count": null,
      "outputs": [
        {
          "output_type": "execute_result",
          "data": {
            "text/plain": [
              "ford               79666\n",
              "chevrolet          64977\n",
              "toyota             38577\n",
              "honda              25868\n",
              "nissan             23654\n",
              "jeep               21165\n",
              "ram                17697\n",
              "gmc                17267\n",
              "dodge              16730\n",
              "bmw                12352\n",
              "hyundai            10975\n",
              "mercedes-benz      10628\n",
              "subaru             10510\n",
              "volkswagen         10489\n",
              "kia                 8854\n",
              "chrysler            7499\n",
              "lexus               7119\n",
              "cadillac            6743\n",
              "buick               6009\n",
              "mazda               5931\n",
              "audi                5583\n",
              "acura               4008\n",
              "infiniti            3714\n",
              "lincoln             3338\n",
              "pontiac             3037\n",
              "volvo               2866\n",
              "mini                2330\n",
              "mitsubishi          2301\n",
              "porsche             1779\n",
              "rover               1662\n",
              "mercury             1645\n",
              "saturn              1393\n",
              "tesla               1067\n",
              "jaguar              1060\n",
              "fiat                 955\n",
              "alfa-romeo           187\n",
              "harley-davidson      139\n",
              "ferrari               96\n",
              "datsun                63\n",
              "aston-martin          35\n",
              "land rover            21\n",
              "morgan                 3\n",
              "hennessey              1\n",
              "Name: manufacturer, dtype: int64"
            ]
          },
          "metadata": {},
          "execution_count": 13
        }
      ]
    },
    {
      "cell_type": "markdown",
      "metadata": {
        "id": "2aAe_0h_QyRY"
      },
      "source": [
        "- 범주형 데이터 분포 : countplot\n",
        "  - 소수 카테고리로 어떻게 묶을까 ?"
      ]
    },
    {
      "cell_type": "code",
      "metadata": {
        "colab": {
          "base_uri": "https://localhost:8080/",
          "height": 623
        },
        "id": "jjnjBCtAiNhr",
        "outputId": "8d9fa1e8-7573-4d79-b28a-134f1c328d81"
      },
      "source": [
        "fig = plt.figure(figsize=(8, 10))\n",
        "# sns.countplot(y='manufacturer', data = df.fillna('n/a'))\n",
        "sns.countplot(y='manufacturer', data=df.fillna('n/a'), order=df.fillna('n/a')['manufacturer'].value_counts().index)"
      ],
      "execution_count": null,
      "outputs": [
        {
          "output_type": "execute_result",
          "data": {
            "text/plain": [
              "<matplotlib.axes._subplots.AxesSubplot at 0x7f28fb5f44d0>"
            ]
          },
          "metadata": {},
          "execution_count": 14
        },
        {
          "output_type": "display_data",
          "data": {
            "image/png": "[encoded data removed]",
            "text/plain": [
              "<Figure size 576x720 with 1 Axes>"
            ]
          },
          "metadata": {
            "needs_background": "light"
          }
        }
      ]
    },
    {
      "cell_type": "code",
      "metadata": {
        "colab": {
          "base_uri": "https://localhost:8080/"
        },
        "id": "Yknr15IxjKOW",
        "outputId": "633713ab-63c1-42d4-f95a-33a8bd3efad7"
      },
      "source": [
        "df.columns"
      ],
      "execution_count": null,
      "outputs": [
        {
          "output_type": "execute_result",
          "data": {
            "text/plain": [
              "Index(['region', 'price', 'manufacturer', 'model', 'condition', 'cylinders',\n",
              "       'fuel', 'odometer', 'title_status', 'transmission', 'drive', 'size',\n",
              "       'type', 'paint_color', 'age'],\n",
              "      dtype='object')"
            ]
          },
          "metadata": {},
          "execution_count": 15
        }
      ]
    },
    {
      "cell_type": "code",
      "metadata": {
        "id": "SsIObknPjPV2"
      },
      "source": [
        "for model, num in zip(df['model'].value_counts().index, df['model'].value_counts()):\n",
        "  print(model, num)"
      ],
      "execution_count": null,
      "outputs": []
    },
    {
      "cell_type": "code",
      "metadata": {
        "colab": {
          "base_uri": "https://localhost:8080/",
          "height": 296
        },
        "id": "6ZshUv4ukBxj",
        "outputId": "6257581c-3788-43a6-d07c-a8d74c2c7392"
      },
      "source": [
        "sns.countplot(y='condition', data=df.fillna('n/a'), order=df.fillna('n/a')['condition'].value_counts().index)"
      ],
      "execution_count": null,
      "outputs": [
        {
          "output_type": "execute_result",
          "data": {
            "text/plain": [
              "<matplotlib.axes._subplots.AxesSubplot at 0x7f28fa51bc10>"
            ]
          },
          "metadata": {},
          "execution_count": 17
        },
        {
          "output_type": "display_data",
          "data": {
            "image/png": "[encoded data removed]",
            "text/plain": [
              "<Figure size 432x288 with 1 Axes>"
            ]
          },
          "metadata": {
            "needs_background": "light"
          }
        }
      ]
    },
    {
      "cell_type": "code",
      "metadata": {
        "colab": {
          "base_uri": "https://localhost:8080/",
          "height": 296
        },
        "id": "hxBSR3c4kEdz",
        "outputId": "9a412daf-9afc-4af4-f4d2-5a44449ecbe5"
      },
      "source": [
        "sns.countplot(y='cylinders', data=df.fillna('n/a'), order=df.fillna('n/a')['cylinders'].value_counts().index)"
      ],
      "execution_count": null,
      "outputs": [
        {
          "output_type": "execute_result",
          "data": {
            "text/plain": [
              "<matplotlib.axes._subplots.AxesSubplot at 0x7f28fa515c10>"
            ]
          },
          "metadata": {},
          "execution_count": 18
        },
        {
          "output_type": "display_data",
          "data": {
            "image/png": "[encoded data removed]",
            "text/plain": [
              "<Figure size 432x288 with 1 Axes>"
            ]
          },
          "metadata": {
            "needs_background": "light"
          }
        }
      ]
    },
    {
      "cell_type": "code",
      "metadata": {
        "colab": {
          "base_uri": "https://localhost:8080/",
          "height": 296
        },
        "id": "TUocZrbFkJzq",
        "outputId": "24011f2c-5928-4911-9bb0-644c16d6e8d7"
      },
      "source": [
        "sns.countplot(y='fuel', data=df.fillna('n/a'), order=df.fillna('n/a')['fuel'].value_counts().index)"
      ],
      "execution_count": null,
      "outputs": [
        {
          "output_type": "execute_result",
          "data": {
            "text/plain": [
              "<matplotlib.axes._subplots.AxesSubplot at 0x7f28fa577b90>"
            ]
          },
          "metadata": {},
          "execution_count": 19
        },
        {
          "output_type": "display_data",
          "data": {
            "image/png": "[encoded data removed]",
            "text/plain": [
              "<Figure size 432x288 with 1 Axes>"
            ]
          },
          "metadata": {
            "needs_background": "light"
          }
        }
      ]
    },
    {
      "cell_type": "code",
      "metadata": {
        "colab": {
          "base_uri": "https://localhost:8080/"
        },
        "id": "1Gj0IIeik65X",
        "outputId": "37292c1c-6c37-4f1a-95ee-f48ce8fc92b3"
      },
      "source": [
        "df.columns"
      ],
      "execution_count": null,
      "outputs": [
        {
          "output_type": "execute_result",
          "data": {
            "text/plain": [
              "Index(['region', 'price', 'manufacturer', 'model', 'condition', 'cylinders',\n",
              "       'fuel', 'odometer', 'title_status', 'transmission', 'drive', 'size',\n",
              "       'type', 'paint_color', 'age'],\n",
              "      dtype='object')"
            ]
          },
          "metadata": {},
          "execution_count": 20
        }
      ]
    },
    {
      "cell_type": "code",
      "metadata": {
        "colab": {
          "base_uri": "https://localhost:8080/",
          "height": 296
        },
        "id": "OIenNbCKk6OX",
        "outputId": "12eac8c7-d89f-4fd2-8a21-0bddb48ff178"
      },
      "source": [
        "sns.countplot(y='transmission', data=df.fillna('n/a'), order=df.fillna('n/a')['transmission'].value_counts().index)"
      ],
      "execution_count": null,
      "outputs": [
        {
          "output_type": "execute_result",
          "data": {
            "text/plain": [
              "<matplotlib.axes._subplots.AxesSubplot at 0x7f28f90dbf50>"
            ]
          },
          "metadata": {},
          "execution_count": 21
        },
        {
          "output_type": "display_data",
          "data": {
            "image/png": "[encoded data removed]",
            "text/plain": [
              "<Figure size 432x288 with 1 Axes>"
            ]
          },
          "metadata": {
            "needs_background": "light"
          }
        }
      ]
    },
    {
      "cell_type": "code",
      "metadata": {
        "colab": {
          "base_uri": "https://localhost:8080/",
          "height": 296
        },
        "id": "oS-X_Ti3k-JH",
        "outputId": "b19652df-8284-47a1-8bdb-ca1d6d3af6ea"
      },
      "source": [
        "sns.countplot(y='drive', data=df.fillna('n/a'), order=df.fillna('n/a')['drive'].value_counts().index)"
      ],
      "execution_count": null,
      "outputs": [
        {
          "output_type": "execute_result",
          "data": {
            "text/plain": [
              "<matplotlib.axes._subplots.AxesSubplot at 0x7f28f83663d0>"
            ]
          },
          "metadata": {},
          "execution_count": 22
        },
        {
          "output_type": "display_data",
          "data": {
            "image/png": "[encoded data removed]",
            "text/plain": [
              "<Figure size 432x288 with 1 Axes>"
            ]
          },
          "metadata": {
            "needs_background": "light"
          }
        }
      ]
    },
    {
      "cell_type": "code",
      "metadata": {
        "colab": {
          "base_uri": "https://localhost:8080/",
          "height": 296
        },
        "id": "epPApKnSk-kP",
        "outputId": "8abb47a0-e6a4-4aa1-ac54-4b2bb3dbb583"
      },
      "source": [
        "sns.countplot(y='size', data=df.fillna('n/a'), order=df.fillna('n/a')['size'].value_counts().index)"
      ],
      "execution_count": null,
      "outputs": [
        {
          "output_type": "execute_result",
          "data": {
            "text/plain": [
              "<matplotlib.axes._subplots.AxesSubplot at 0x7f28f883e3d0>"
            ]
          },
          "metadata": {},
          "execution_count": 23
        },
        {
          "output_type": "display_data",
          "data": {
            "image/png": "[encoded data removed]",
            "text/plain": [
              "<Figure size 432x288 with 1 Axes>"
            ]
          },
          "metadata": {
            "needs_background": "light"
          }
        }
      ]
    },
    {
      "cell_type": "code",
      "metadata": {
        "colab": {
          "base_uri": "https://localhost:8080/",
          "height": 296
        },
        "id": "GcqojbJCk_O_",
        "outputId": "cfbf16b8-8ee3-4079-99cf-5b82430c299c"
      },
      "source": [
        "sns.countplot(y='type', data=df.fillna('n/a'), order=df.fillna('n/a')['type'].value_counts().index)"
      ],
      "execution_count": null,
      "outputs": [
        {
          "output_type": "execute_result",
          "data": {
            "text/plain": [
              "<matplotlib.axes._subplots.AxesSubplot at 0x7f28f8851d90>"
            ]
          },
          "metadata": {},
          "execution_count": 24
        },
        {
          "output_type": "display_data",
          "data": {
            "image/png": "[encoded data removed]",
            "text/plain": [
              "<Figure size 432x288 with 1 Axes>"
            ]
          },
          "metadata": {
            "needs_background": "light"
          }
        }
      ]
    },
    {
      "cell_type": "code",
      "metadata": {
        "colab": {
          "base_uri": "https://localhost:8080/",
          "height": 296
        },
        "id": "Bpx8rk-JlGWO",
        "outputId": "1baefdd7-dc79-48ae-e8b3-e4174c12c751"
      },
      "source": [
        "sns.countplot(y='paint_color', data=df.fillna('n/a'), order=df.fillna('n/a')['paint_color'].value_counts().index)"
      ],
      "execution_count": null,
      "outputs": [
        {
          "output_type": "execute_result",
          "data": {
            "text/plain": [
              "<matplotlib.axes._subplots.AxesSubplot at 0x7f28f88df450>"
            ]
          },
          "metadata": {},
          "execution_count": 25
        },
        {
          "output_type": "display_data",
          "data": {
            "image/png": "[encoded data removed]",
            "text/plain": [
              "<Figure size 432x288 with 1 Axes>"
            ]
          },
          "metadata": {
            "needs_background": "light"
          }
        }
      ]
    },
    {
      "cell_type": "markdown",
      "metadata": {
        "id": "amkU5Y6g7Dp4"
      },
      "source": [
        "### 문제 6. 수치형 데이터의 통계 분석하기\n",
        "- histplot, boxplot, rugplot\n",
        "- 너무 극단값이 많다 -> 해석하기, 제외하기"
      ]
    },
    {
      "cell_type": "code",
      "metadata": {
        "colab": {
          "base_uri": "https://localhost:8080/"
        },
        "id": "xj6r31iWlla8",
        "outputId": "8caa5e17-b5ab-417e-f762-18dc8f95945f"
      },
      "source": [
        "df.columns"
      ],
      "execution_count": null,
      "outputs": [
        {
          "output_type": "execute_result",
          "data": {
            "text/plain": [
              "Index(['region', 'price', 'manufacturer', 'model', 'condition', 'cylinders',\n",
              "       'fuel', 'odometer', 'title_status', 'transmission', 'drive', 'size',\n",
              "       'type', 'paint_color', 'age'],\n",
              "      dtype='object')"
            ]
          },
          "metadata": {},
          "execution_count": 26
        }
      ]
    },
    {
      "cell_type": "code",
      "metadata": {
        "colab": {
          "base_uri": "https://localhost:8080/",
          "height": 296
        },
        "id": "5ET_v8kGUPlx",
        "outputId": "41c71df6-ecc8-4c2c-e5a9-f0065cd97958"
      },
      "source": [
        "sns.boxplot(x='price', data = df)\n",
        "# boxplot으로 아무것도 안보이게 아웃라이어가 극단적일때\n",
        "sns.rugplot(x='price', data = df, height=0.1)"
      ],
      "execution_count": null,
      "outputs": [
        {
          "output_type": "execute_result",
          "data": {
            "text/plain": [
              "<matplotlib.axes._subplots.AxesSubplot at 0x7f28f823bcd0>"
            ]
          },
          "metadata": {},
          "execution_count": 27
        },
        {
          "output_type": "display_data",
          "data": {
            "image/png": "[encoded data removed]",
            "text/plain": [
              "<Figure size 432x288 with 1 Axes>"
            ]
          },
          "metadata": {
            "needs_background": "light"
          }
        }
      ]
    },
    {
      "cell_type": "code",
      "metadata": {
        "id": "GZXSBFPyDh6R",
        "colab": {
          "base_uri": "https://localhost:8080/",
          "height": 188
        },
        "outputId": "a2170252-2914-4b50-c0b2-ffd748685da0"
      },
      "source": [
        "# 수치형 데이터의 값의 범위, 기초 통계 분석하기\n",
        "fig = plt.figure(figsize=(8, 2))\n",
        "sns.rugplot(x='price', data=df, height=0.1)"
      ],
      "execution_count": null,
      "outputs": [
        {
          "output_type": "execute_result",
          "data": {
            "text/plain": [
              "<matplotlib.axes._subplots.AxesSubplot at 0x7f28e2c43790>"
            ]
          },
          "metadata": {},
          "execution_count": 28
        },
        {
          "output_type": "display_data",
          "data": {
            "image/png": "[encoded data removed]",
            "text/plain": [
              "<Figure size 576x144 with 1 Axes>"
            ]
          },
          "metadata": {
            "needs_background": "light"
          }
        }
      ]
    },
    {
      "cell_type": "code",
      "metadata": {
        "colab": {
          "base_uri": "https://localhost:8080/",
          "height": 188
        },
        "id": "qVr12uPAlwrS",
        "outputId": "a31c35f8-6fa1-4a36-cea6-51539d905024"
      },
      "source": [
        "fig = plt.figure(figsize=(8, 2))\n",
        "sns.rugplot(x='odometer', data=df, height=0.1)"
      ],
      "execution_count": null,
      "outputs": [
        {
          "output_type": "execute_result",
          "data": {
            "text/plain": [
              "<matplotlib.axes._subplots.AxesSubplot at 0x7f28e2c6f610>"
            ]
          },
          "metadata": {},
          "execution_count": 29
        },
        {
          "output_type": "display_data",
          "data": {
            "image/png": "[encoded data removed]",
            "text/plain": [
              "<Figure size 576x144 with 1 Axes>"
            ]
          },
          "metadata": {
            "needs_background": "light"
          }
        }
      ]
    },
    {
      "cell_type": "code",
      "metadata": {
        "colab": {
          "base_uri": "https://localhost:8080/",
          "height": 296
        },
        "id": "baEt6p2Ml3kU",
        "outputId": "aa4d06f9-4c4a-4cf7-9a2e-1b03b478a73a"
      },
      "source": [
        "sns.histplot(x='age', data=df, bins=18, kde=True)"
      ],
      "execution_count": null,
      "outputs": [
        {
          "output_type": "execute_result",
          "data": {
            "text/plain": [
              "<matplotlib.axes._subplots.AxesSubplot at 0x7f28c504ebd0>"
            ]
          },
          "metadata": {},
          "execution_count": 30
        },
        {
          "output_type": "display_data",
          "data": {
            "image/png": "[encoded data removed]",
            "text/plain": [
              "<Figure size 432x288 with 1 Axes>"
            ]
          },
          "metadata": {
            "needs_background": "light"
          }
        }
      ]
    },
    {
      "cell_type": "markdown",
      "metadata": {
        "id": "izztXKpllMss"
      },
      "source": [
        "## Step 3. 데이터 클리닝 수행하기"
      ]
    },
    {
      "cell_type": "markdown",
      "metadata": {
        "id": "KywGh9sjtYl9"
      },
      "source": [
        "### 문제 7. 범주형 데이터 시각화하여 분석하기"
      ]
    },
    {
      "cell_type": "code",
      "metadata": {
        "colab": {
          "base_uri": "https://localhost:8080/"
        },
        "id": "vIBKUk2fpS6I",
        "outputId": "ea3271ca-b322-4062-d4c0-b38fca03c110"
      },
      "source": [
        "df.columns"
      ],
      "execution_count": null,
      "outputs": [
        {
          "output_type": "execute_result",
          "data": {
            "text/plain": [
              "Index(['region', 'price', 'manufacturer', 'model', 'condition', 'cylinders',\n",
              "       'fuel', 'odometer', 'title_status', 'transmission', 'drive', 'size',\n",
              "       'type', 'paint_color', 'age'],\n",
              "      dtype='object')"
            ]
          },
          "metadata": {},
          "execution_count": 32
        }
      ]
    },
    {
      "cell_type": "code",
      "metadata": {
        "id": "TqXkwW8JDxhH",
        "colab": {
          "base_uri": "https://localhost:8080/",
          "height": 307
        },
        "outputId": "d5524a5a-ec8a-49b0-e373-7c1eb65d97dc"
      },
      "source": [
        "# Boxplot 계열로 범주형 데이터를 시각화하여 분석하기\n",
        "sns.boxplot(x='manufacturer', y='price', data=df.fillna('n/a'))"
      ],
      "execution_count": null,
      "outputs": [
        {
          "output_type": "execute_result",
          "data": {
            "text/plain": [
              "<matplotlib.axes._subplots.AxesSubplot at 0x7f28c2f8bd90>"
            ]
          },
          "metadata": {},
          "execution_count": 33
        },
        {
          "output_type": "display_data",
          "data": {
            "image/png": "[encoded data removed]",
            "text/plain": [
              "<Figure size 432x288 with 1 Axes>"
            ]
          },
          "metadata": {
            "needs_background": "light"
          }
        }
      ]
    },
    {
      "cell_type": "code",
      "metadata": {
        "colab": {
          "base_uri": "https://localhost:8080/",
          "height": 307
        },
        "id": "3C4yRUpvpgb-",
        "outputId": "81f8fddc-0f14-46f1-91f0-1507e6998327"
      },
      "source": [
        "sns.boxplot(x='fuel', y='price', data=df.fillna('n/a'))"
      ],
      "execution_count": null,
      "outputs": [
        {
          "output_type": "execute_result",
          "data": {
            "text/plain": [
              "<matplotlib.axes._subplots.AxesSubplot at 0x7f4c6709c198>"
            ]
          },
          "metadata": {
            "tags": []
          },
          "execution_count": 35
        },
        {
          "output_type": "display_data",
          "data": {
            "image/png": "[encoded data removed]",
            "text/plain": [
              "<Figure size 432x288 with 1 Axes>"
            ]
          },
          "metadata": {
            "tags": [],
            "needs_background": "light"
          }
        }
      ]
    },
    {
      "cell_type": "markdown",
      "metadata": {
        "id": "CXLd43EZ9EgS"
      },
      "source": [
        "### 문제 8. 범주형 데이터 클리닝하기"
      ]
    },
    {
      "cell_type": "code",
      "metadata": {
        "id": "8HbUtvqs9C-C"
      },
      "source": [
        "# [★] 범주형 데이터를 아래 방법 중 적절히 판단하여 처리하기\n",
        "# 1. 결손 데이터가 포함된 Row를 제거\n",
        "# 2. 결손 데이터를 others 범주로 변경하기\n",
        "# 3. 지나치게 소수로 이루어진 범주를 others 범주로 변경하기\n",
        "# (4. Classifier를 학습해서, 결손 데이터를 추정하여 채워넣기)\n",
        "# 5. 데이터를 묶기"
      ],
      "execution_count": 38,
      "outputs": []
    },
    {
      "cell_type": "code",
      "metadata": {
        "colab": {
          "base_uri": "https://localhost:8080/"
        },
        "id": "qkswTsrf1Q8b",
        "outputId": "93765c92-7e71-4f9a-c13a-7aea370dfd46"
      },
      "source": [
        "df.columns"
      ],
      "execution_count": 41,
      "outputs": [
        {
          "output_type": "execute_result",
          "data": {
            "text/plain": [
              "Index(['region', 'price', 'manufacturer', 'model', 'condition', 'cylinders',\n",
              "       'fuel', 'odometer', 'title_status', 'transmission', 'drive', 'size',\n",
              "       'type', 'paint_color', 'age'],\n",
              "      dtype='object')"
            ]
          },
          "metadata": {},
          "execution_count": 41
        }
      ]
    },
    {
      "cell_type": "code",
      "metadata": {
        "colab": {
          "base_uri": "https://localhost:8080/",
          "height": 709
        },
        "id": "OfCaUpRA1fEg",
        "outputId": "8a64e204-3db1-4086-f155-8ba76fc13dca"
      },
      "source": [
        "cols = ['manufacturer', 'region', 'model', 'condition', 'cylinders', 'fuel', 'size', 'type', 'paint_color']\n",
        "nrows = (len(cols)-1) // 4 + 1\n",
        "ncols = len(cols) % 4 if len(cols) < 4 else 4\n",
        "print(nrows, ncols)\n",
        "fig, axes = plt.subplots(nrows, ncols, figsize = (20, 4*nrows))\n",
        "for col, ax in zip(cols, axes.flatten()):\n",
        "  # if col == 'manufacturer' :\n",
        "  #   continue\n",
        "  counts = df[col].fillna('others').value_counts()\n",
        "  ax.plot(range(len(counts)), counts)\n",
        "  ax.set_title(col)\n",
        "  ax.grid()\n",
        "plt.show()\n",
        "#title_status: 버림, transmission: other->others, drvie: 그대로 두기\n",
        "\n",
        "display(df[col].value_counts()[:10])\n",
        "# df.drop('title_status', axis =1, inplace = True)"
      ],
      "execution_count": 139,
      "outputs": [
        {
          "output_type": "stream",
          "name": "stdout",
          "text": [
            "3 4\n"
          ]
        },
        {
          "output_type": "display_data",
          "data": {
            "image/png": "[encoded data removed]",
            "text/plain": [
              "<Figure size 1440x864 with 12 Axes>"
            ]
          },
          "metadata": {
            "needs_background": "light"
          }
        },
        {
          "output_type": "display_data",
          "data": {
            "text/plain": [
              "white     82786\n",
              "black     64145\n",
              "silver    46722\n",
              "red       33274\n",
              "blue      32746\n",
              "grey      30455\n",
              "custom     8843\n",
              "green      7631\n",
              "brown      6028\n",
              "yellow     2002\n",
              "Name: paint_color, dtype: int64"
            ]
          },
          "metadata": {}
        }
      ]
    },
    {
      "cell_type": "code",
      "metadata": {
        "colab": {
          "base_uri": "https://localhost:8080/",
          "height": 1000
        },
        "id": "1wKfv8So1157",
        "outputId": "39f91da7-a0fc-4ebb-ba64-6da52febf9b5"
      },
      "source": [
        "#[★] 범주형 데이터\n",
        "## 범주 개수 줄이기(상위 n개 남기고 버리기)\n",
        "## 범주 카테고리화 하기(수치형, 범주형 공통)\n",
        "n_categoricals = [10, 5, 10, 3, 4, 2, 2, 8, 7]\n",
        "for col, n_categorical in zip(cols, n_categoricals):\n",
        "  print('###', col, '###')\n",
        "  counts = df[col].fillna('others').value_counts()\n",
        "  others = counts.index[n_categorical:]\n",
        "  df[col] = df[col].apply(lambda s: s if str(s) not in others else 'others')\n",
        "  df[col] = df[col].fillna('others')\n",
        "  display(df[col].value_counts())\n",
        "  print('#####################')"
      ],
      "execution_count": 145,
      "outputs": [
        {
          "output_type": "stream",
          "name": "stdout",
          "text": [
            "### manufacturer ###\n"
          ]
        },
        {
          "output_type": "display_data",
          "data": {
            "text/plain": [
              "others       152612\n",
              "ford          79666\n",
              "chevrolet     64977\n",
              "toyota        38577\n",
              "honda         25868\n",
              "nissan        23654\n",
              "jeep          21165\n",
              "ram           17697\n",
              "gmc           17267\n",
              "dodge         16730\n",
              "Name: manufacturer, dtype: int64"
            ]
          },
          "metadata": {}
        },
        {
          "output_type": "stream",
          "name": "stdout",
          "text": [
            "#####################\n",
            "### region ###\n"
          ]
        },
        {
          "output_type": "display_data",
          "data": {
            "text/plain": [
              "others          441016\n",
              "columbus          3818\n",
              "rochester         3592\n",
              "jacksonville      3504\n",
              "springfield       3293\n",
              "fayetteville      2990\n",
              "Name: region, dtype: int64"
            ]
          },
          "metadata": {}
        },
        {
          "output_type": "stream",
          "name": "stdout",
          "text": [
            "#####################\n",
            "### model ###\n"
          ]
        },
        {
          "output_type": "display_data",
          "data": {
            "text/plain": [
              "others            418402\n",
              "f-150               8370\n",
              "silverado 1500      5964\n",
              "1500                4211\n",
              "camry               4033\n",
              "accord              3730\n",
              "altima              3490\n",
              "civic               3479\n",
              "escape              3444\n",
              "silverado           3090\n",
              "Name: model, dtype: int64"
            ]
          },
          "metadata": {}
        },
        {
          "output_type": "stream",
          "name": "stdout",
          "text": [
            "#####################\n",
            "### condition ###\n"
          ]
        },
        {
          "output_type": "display_data",
          "data": {
            "text/plain": [
              "others       227322\n",
              "good         115685\n",
              "excellent    115206\n",
              "Name: condition, dtype: int64"
            ]
          },
          "metadata": {}
        },
        {
          "output_type": "stream",
          "name": "stdout",
          "text": [
            "#####################\n",
            "### cylinders ###\n"
          ]
        },
        {
          "output_type": "display_data",
          "data": {
            "text/plain": [
              "others         176590\n",
              "6 cylinders    105677\n",
              "4 cylinders     94767\n",
              "8 cylinders     81179\n",
              "Name: cylinders, dtype: int64"
            ]
          },
          "metadata": {}
        },
        {
          "output_type": "stream",
          "name": "stdout",
          "text": [
            "#####################\n",
            "### fuel ###\n"
          ]
        },
        {
          "output_type": "display_data",
          "data": {
            "text/plain": [
              "gas       399399\n",
              "diesel     31077\n",
              "others     27737\n",
              "Name: fuel, dtype: int64"
            ]
          },
          "metadata": {}
        },
        {
          "output_type": "stream",
          "name": "stdout",
          "text": [
            "#####################\n",
            "### size ###\n"
          ]
        },
        {
          "output_type": "display_data",
          "data": {
            "text/plain": [
              "others       388477\n",
              "full-size     69736\n",
              "Name: size, dtype: int64"
            ]
          },
          "metadata": {}
        },
        {
          "output_type": "stream",
          "name": "stdout",
          "text": [
            "#####################\n",
            "### type ###\n"
          ]
        },
        {
          "output_type": "display_data",
          "data": {
            "text/plain": [
              "others       171436\n",
              "sedan         92364\n",
              "SUV           79882\n",
              "pickup        43343\n",
              "truck         35694\n",
              "coupe         19106\n",
              "hatchback     16388\n",
              "Name: type, dtype: int64"
            ]
          },
          "metadata": {}
        },
        {
          "output_type": "stream",
          "name": "stdout",
          "text": [
            "#####################\n",
            "### paint_color ###\n"
          ]
        },
        {
          "output_type": "display_data",
          "data": {
            "text/plain": [
              "others    168085\n",
              "white      82786\n",
              "black      64145\n",
              "silver     46722\n",
              "red        33274\n",
              "blue       32746\n",
              "grey       30455\n",
              "Name: paint_color, dtype: int64"
            ]
          },
          "metadata": {}
        },
        {
          "output_type": "stream",
          "name": "stdout",
          "text": [
            "#####################\n"
          ]
        }
      ]
    },
    {
      "cell_type": "code",
      "metadata": {
        "colab": {
          "base_uri": "https://localhost:8080/",
          "height": 265
        },
        "id": "3JXLcDaD8alt",
        "outputId": "2e8ad0b0-8789-4cf9-9d43-95fb5306a968"
      },
      "source": [
        "#참고: models\n",
        "plt.plot(range(len(counts[:20])), counts[:20])\n",
        "plt.grid()"
      ],
      "execution_count": 98,
      "outputs": [
        {
          "output_type": "display_data",
          "data": {
            "image/png": "[encoded data removed]",
            "text/plain": [
              "<Figure size 432x288 with 1 Axes>"
            ]
          },
          "metadata": {
            "needs_background": "light"
          }
        }
      ]
    },
    {
      "cell_type": "code",
      "metadata": {
        "id": "Wdh0e-PV_J7I"
      },
      "source": [
        "df['transmission'] = df['transmission'].map(lambda x: 'others' if str(x) == 'other' else x)"
      ],
      "execution_count": 146,
      "outputs": []
    },
    {
      "cell_type": "code",
      "metadata": {
        "colab": {
          "base_uri": "https://localhost:8080/"
        },
        "id": "mNIfjo_PAM1V",
        "outputId": "31c4e22a-a554-45e9-f843-bf3ffd82f13d"
      },
      "source": [
        "df['drive'] = df['drive'].fillna('others')\n",
        "df['drive'].value_counts()"
      ],
      "execution_count": 147,
      "outputs": [
        {
          "output_type": "execute_result",
          "data": {
            "text/plain": [
              "4wd       139693\n",
              "others    134188\n",
              "fwd       122602\n",
              "rwd        61730\n",
              "Name: drive, dtype: int64"
            ]
          },
          "metadata": {},
          "execution_count": 147
        }
      ]
    },
    {
      "cell_type": "code",
      "metadata": {
        "colab": {
          "base_uri": "https://localhost:8080/"
        },
        "id": "jcoNiuQnBZNu",
        "outputId": "eb6ca684-426a-4e11-a8ac-e14d713a9b4f"
      },
      "source": [
        "# df['type'] = df['type'].map(lambda x : 'others' if str(x) == 'other' else x)\n",
        "df['type'][df['type'] == 'other'] = 'others'\n",
        "df['type'] = df['type'].fillna('others')\n",
        "df['type'].value_counts()"
      ],
      "execution_count": 148,
      "outputs": [
        {
          "output_type": "stream",
          "name": "stderr",
          "text": [
            "/usr/local/lib/python3.7/dist-packages/ipykernel_launcher.py:2: SettingWithCopyWarning: \n",
            "A value is trying to be set on a copy of a slice from a DataFrame\n",
            "\n",
            "See the caveats in the documentation: https://pandas.pydata.org/pandas-docs/stable/user_guide/indexing.html#returning-a-view-versus-a-copy\n",
            "  \n"
          ]
        },
        {
          "output_type": "execute_result",
          "data": {
            "text/plain": [
              "others       171436\n",
              "sedan         92364\n",
              "SUV           79882\n",
              "pickup        43343\n",
              "truck         35694\n",
              "coupe         19106\n",
              "hatchback     16388\n",
              "Name: type, dtype: int64"
            ]
          },
          "metadata": {},
          "execution_count": 148
        }
      ]
    },
    {
      "cell_type": "markdown",
      "metadata": {
        "id": "2Z62otW9lgtX"
      },
      "source": [
        "### 문제 9. 수치형 데이터 시각화하여 분석하기"
      ]
    },
    {
      "cell_type": "code",
      "metadata": {
        "id": "NW-QEym6lgtX"
      },
      "source": [
        "# Seaborn을 이용하여 범주형 데이터를 시각화하여 분석하기\n",
        "# Hint) 값의 범위가 너무 넓을 경우 histplot() 등이 잘 동작하지 않으므로, rugplot을 활용"
      ],
      "execution_count": null,
      "outputs": []
    },
    {
      "cell_type": "code",
      "metadata": {
        "colab": {
          "base_uri": "https://localhost:8080/",
          "height": 189
        },
        "id": "p2CSD3Y97DFY",
        "outputId": "1f76dc4f-6424-4918-84f8-11175434e93f"
      },
      "source": [
        "fig = plt.figure(figsize=(8, 2))\n",
        "sns.rugplot(x='price', data=df, height=.1)"
      ],
      "execution_count": 149,
      "outputs": [
        {
          "output_type": "execute_result",
          "data": {
            "text/plain": [
              "<matplotlib.axes._subplots.AxesSubplot at 0x7f28b8fff310>"
            ]
          },
          "metadata": {},
          "execution_count": 149
        },
        {
          "output_type": "display_data",
          "data": {
            "image/png": "[encoded data removed]",
            "text/plain": [
              "<Figure size 576x144 with 1 Axes>"
            ]
          },
          "metadata": {
            "needs_background": "light"
          }
        }
      ]
    },
    {
      "cell_type": "code",
      "metadata": {
        "colab": {
          "base_uri": "https://localhost:8080/",
          "height": 189
        },
        "id": "-8FtMx8O7DFg",
        "outputId": "bc154bcc-3d62-4da0-d69e-f7ca4ce21697"
      },
      "source": [
        "fig = plt.figure(figsize=(8, 2))\n",
        "sns.rugplot(x='odometer', data=df, height=.1)"
      ],
      "execution_count": 150,
      "outputs": [
        {
          "output_type": "execute_result",
          "data": {
            "text/plain": [
              "<matplotlib.axes._subplots.AxesSubplot at 0x7f28b8fff050>"
            ]
          },
          "metadata": {},
          "execution_count": 150
        },
        {
          "output_type": "display_data",
          "data": {
            "image/png": "[encoded data removed]",
            "text/plain": [
              "<Figure size 576x144 with 1 Axes>"
            ]
          },
          "metadata": {
            "needs_background": "light"
          }
        }
      ]
    },
    {
      "cell_type": "code",
      "metadata": {
        "colab": {
          "base_uri": "https://localhost:8080/",
          "height": 297
        },
        "id": "6PLTuhs57DFg",
        "outputId": "d8c9bf36-3aec-4363-bb06-04bfd253ded2"
      },
      "source": [
        "sns.histplot(x='age', data=df, bins=18, kde=True)"
      ],
      "execution_count": 151,
      "outputs": [
        {
          "output_type": "execute_result",
          "data": {
            "text/plain": [
              "<matplotlib.axes._subplots.AxesSubplot at 0x7f289d4eac10>"
            ]
          },
          "metadata": {},
          "execution_count": 151
        },
        {
          "output_type": "display_data",
          "data": {
            "image/png": "[encoded data removed]",
            "text/plain": [
              "<Figure size 432x288 with 1 Axes>"
            ]
          },
          "metadata": {
            "needs_background": "light"
          }
        }
      ]
    },
    {
      "cell_type": "markdown",
      "metadata": {
        "id": "xsd_T_h_lgtY"
      },
      "source": [
        "### 문제 10. 수치형 데이터 클리닝하기"
      ]
    },
    {
      "cell_type": "code",
      "metadata": {
        "id": "PRYiAxnKlgtY",
        "colab": {
          "base_uri": "https://localhost:8080/"
        },
        "outputId": "dfbce2b8-2300-4879-9274-cca68a3d4ff4"
      },
      "source": [
        "# [★] quantile() 메소드를 이용하여 outlier 제거하고 시각화하여 확인하기\n",
        "p1 = df['price'].quantile(0.99)\n",
        "p2 = df['price'].quantile(0.1)\n",
        "print(p1, p2)"
      ],
      "execution_count": 158,
      "outputs": [
        {
          "output_type": "stream",
          "name": "stdout",
          "text": [
            "59900.0 651.0\n"
          ]
        }
      ]
    },
    {
      "cell_type": "code",
      "metadata": {
        "id": "2NrIwd1c8Gw5"
      },
      "source": [
        "df = df[(p1 > df['price']) & (df['price'] > p2)]"
      ],
      "execution_count": 159,
      "outputs": []
    },
    {
      "cell_type": "code",
      "metadata": {
        "colab": {
          "base_uri": "https://localhost:8080/"
        },
        "id": "avA8ALpA7qNT",
        "outputId": "17659e13-d452-46af-9a87-9cacca664cbd"
      },
      "source": [
        "o1 = df['odometer'].quantile(0.99)\n",
        "o2 = df['odometer'].quantile(0.1)\n",
        "print(o1, o2)"
      ],
      "execution_count": 161,
      "outputs": [
        {
          "output_type": "stream",
          "name": "stdout",
          "text": [
            "272803.10999999824 18593.0\n"
          ]
        }
      ]
    },
    {
      "cell_type": "code",
      "metadata": {
        "id": "o0-P0Mrt8PnA"
      },
      "source": [
        "df = df[(o1 > df['odometer']) & (df['odometer'] > o2)]"
      ],
      "execution_count": 162,
      "outputs": []
    },
    {
      "cell_type": "code",
      "metadata": {
        "colab": {
          "base_uri": "https://localhost:8080/",
          "height": 297
        },
        "id": "QMGfDACP8TIn",
        "outputId": "d3d8bba6-6756-426d-9aa6-0905e0335e14"
      },
      "source": [
        "df.describe()\n",
        "#mean과 median이 가까워 지면서 Gaussian에 가까워짐\n"
      ],
      "execution_count": 163,
      "outputs": [
        {
          "output_type": "execute_result",
          "data": {
            "text/html": [
              "<div>\n",
              "<style scoped>\n",
              "    .dataframe tbody tr th:only-of-type {\n",
              "        vertical-align: middle;\n",
              "    }\n",
              "\n",
              "    .dataframe tbody tr th {\n",
              "        vertical-align: top;\n",
              "    }\n",
              "\n",
              "    .dataframe thead th {\n",
              "        text-align: right;\n",
              "    }\n",
              "</style>\n",
              "<table border=\"1\" class=\"dataframe\">\n",
              "  <thead>\n",
              "    <tr style=\"text-align: right;\">\n",
              "      <th></th>\n",
              "      <th>price</th>\n",
              "      <th>odometer</th>\n",
              "      <th>age</th>\n",
              "    </tr>\n",
              "  </thead>\n",
              "  <tbody>\n",
              "    <tr>\n",
              "      <th>count</th>\n",
              "      <td>322166.000000</td>\n",
              "      <td>322166.000000</td>\n",
              "      <td>321666.000000</td>\n",
              "    </tr>\n",
              "    <tr>\n",
              "      <th>mean</th>\n",
              "      <td>15211.239072</td>\n",
              "      <td>103341.828089</td>\n",
              "      <td>10.220235</td>\n",
              "    </tr>\n",
              "    <tr>\n",
              "      <th>std</th>\n",
              "      <td>11248.543565</td>\n",
              "      <td>55049.524247</td>\n",
              "      <td>7.071633</td>\n",
              "    </tr>\n",
              "    <tr>\n",
              "      <th>min</th>\n",
              "      <td>652.000000</td>\n",
              "      <td>18596.000000</td>\n",
              "      <td>0.000000</td>\n",
              "    </tr>\n",
              "    <tr>\n",
              "      <th>25%</th>\n",
              "      <td>6500.000000</td>\n",
              "      <td>57454.000000</td>\n",
              "      <td>6.000000</td>\n",
              "    </tr>\n",
              "    <tr>\n",
              "      <th>50%</th>\n",
              "      <td>12000.000000</td>\n",
              "      <td>98850.000000</td>\n",
              "      <td>9.000000</td>\n",
              "    </tr>\n",
              "    <tr>\n",
              "      <th>75%</th>\n",
              "      <td>20990.000000</td>\n",
              "      <td>141000.000000</td>\n",
              "      <td>13.000000</td>\n",
              "    </tr>\n",
              "    <tr>\n",
              "      <th>max</th>\n",
              "      <td>59895.000000</td>\n",
              "      <td>272742.000000</td>\n",
              "      <td>121.000000</td>\n",
              "    </tr>\n",
              "  </tbody>\n",
              "</table>\n",
              "</div>"
            ],
            "text/plain": [
              "               price       odometer            age\n",
              "count  322166.000000  322166.000000  321666.000000\n",
              "mean    15211.239072  103341.828089      10.220235\n",
              "std     11248.543565   55049.524247       7.071633\n",
              "min       652.000000   18596.000000       0.000000\n",
              "25%      6500.000000   57454.000000       6.000000\n",
              "50%     12000.000000   98850.000000       9.000000\n",
              "75%     20990.000000  141000.000000      13.000000\n",
              "max     59895.000000  272742.000000     121.000000"
            ]
          },
          "metadata": {},
          "execution_count": 163
        }
      ]
    },
    {
      "cell_type": "code",
      "metadata": {
        "colab": {
          "base_uri": "https://localhost:8080/"
        },
        "id": "jv2Tm-Oo9H7q",
        "outputId": "e65b8398-098a-408c-86cd-c8b18c90e742"
      },
      "source": [
        "df.columns"
      ],
      "execution_count": null,
      "outputs": [
        {
          "output_type": "execute_result",
          "data": {
            "text/plain": [
              "Index(['region', 'price', 'manufacturer', 'model', 'condition', 'cylinders',\n",
              "       'fuel', 'odometer', 'transmission', 'drive', 'size', 'type',\n",
              "       'paint_color', 'age'],\n",
              "      dtype='object')"
            ]
          },
          "metadata": {
            "tags": []
          },
          "execution_count": 127
        }
      ]
    },
    {
      "cell_type": "code",
      "metadata": {
        "colab": {
          "base_uri": "https://localhost:8080/",
          "height": 352
        },
        "id": "_Q0WiegN83I-",
        "outputId": "f0c4de7b-f732-421e-c6cc-79ca629b5132"
      },
      "source": [
        "# Boxplot 계열로 범주형 데이터를 시각화하여 분석하기\n",
        "fig = plt.figure(figsize=(10, 5))\n",
        "sns.boxplot(x='manufacturer', y='price', data=df)"
      ],
      "execution_count": 199,
      "outputs": [
        {
          "output_type": "execute_result",
          "data": {
            "text/plain": [
              "<matplotlib.axes._subplots.AxesSubplot at 0x7f28902fe310>"
            ]
          },
          "metadata": {},
          "execution_count": 199
        },
        {
          "output_type": "display_data",
          "data": {
            "image/png": "[encoded data removed]",
            "text/plain": [
              "<Figure size 720x360 with 1 Axes>"
            ]
          },
          "metadata": {
            "needs_background": "light"
          }
        }
      ]
    },
    {
      "cell_type": "code",
      "metadata": {
        "colab": {
          "base_uri": "https://localhost:8080/",
          "height": 337
        },
        "id": "IwEQY5GN83JE",
        "outputId": "9c3d1711-5824-474b-9577-ffd01cece34e"
      },
      "source": [
        "#[★][해석] 모델별로 저가형 고가형으로 나눌 수 있겠구나\n",
        "fig = plt.figure(figsize=(14, 5))\n",
        "sns.boxplot(x='model', y='price', data=df)"
      ],
      "execution_count": 165,
      "outputs": [
        {
          "output_type": "execute_result",
          "data": {
            "text/plain": [
              "<matplotlib.axes._subplots.AxesSubplot at 0x7f289d38dc10>"
            ]
          },
          "metadata": {},
          "execution_count": 165
        },
        {
          "output_type": "display_data",
          "data": {
            "image/png": "[encoded data removed]",
            "text/plain": [
              "<Figure size 1008x360 with 1 Axes>"
            ]
          },
          "metadata": {
            "needs_background": "light"
          }
        }
      ]
    },
    {
      "cell_type": "markdown",
      "metadata": {
        "id": "sWIF67-8lr4C"
      },
      "source": [
        "### 문제 11. 컬럼간의 Correlation Heatmap으로 시각화하기"
      ]
    },
    {
      "cell_type": "code",
      "metadata": {
        "id": "wVmEa1ChlrTc",
        "colab": {
          "base_uri": "https://localhost:8080/",
          "height": 287
        },
        "outputId": "b4db3dd4-4819-4e23-e74a-32ffeb936f9d"
      },
      "source": [
        "sns.heatmap(df.corr(), annot=True, cmap='YlOrRd')\n",
        "#[★][해석]age와 price, odo와 price의 상관이 높아서 좋았지만\n",
        "#안타깝게도 age와 odmeter의 상관이 높으므로 둘은 독립이 아닐 가능성이 높음, 이건 내가 바라는 상태가 아니야"
      ],
      "execution_count": 171,
      "outputs": [
        {
          "output_type": "execute_result",
          "data": {
            "text/plain": [
              "<matplotlib.axes._subplots.AxesSubplot at 0x7f289d1b2450>"
            ]
          },
          "metadata": {},
          "execution_count": 171
        },
        {
          "output_type": "display_data",
          "data": {
            "image/png": "[encoded data removed]",
            "text/plain": [
              "<Figure size 432x288 with 2 Axes>"
            ]
          },
          "metadata": {
            "needs_background": "light"
          }
        }
      ]
    },
    {
      "cell_type": "markdown",
      "metadata": {
        "id": "FRfd7ABjepBS"
      },
      "source": [
        "## Step 4. 모델 학습을 위한 데이터 전처리 "
      ]
    },
    {
      "cell_type": "markdown",
      "metadata": {
        "id": "Dev2yLeMta85"
      },
      "source": [
        "### 문제 12. StandardScaler를 이용해 수치형 데이터 표준화하기\n"
      ]
    },
    {
      "cell_type": "code",
      "metadata": {
        "id": "nQj5E-nILU6V"
      },
      "source": [
        "# [★] 수치형, 범주형 데이터 표준화 눈감고도 하기\n",
        "from sklearn.preprocessing import StandardScaler"
      ],
      "execution_count": 172,
      "outputs": []
    },
    {
      "cell_type": "code",
      "metadata": {
        "id": "tJif46IMLYa2"
      },
      "source": [
        "# [★] StandardScaler를 이용해 수치형 데이터를 표준화하기\n",
        "X_num = df[['odometer', 'age']]\n",
        "scaler = StandardScaler()\n",
        "scaler.fit(X_num)\n",
        "X_scaled = scaler.transform(X_num)\n",
        "X_scaled = pd.DataFrame(X_scaled, index = X_num.index, columns = X_num.columns)"
      ],
      "execution_count": 174,
      "outputs": []
    },
    {
      "cell_type": "code",
      "metadata": {
        "id": "ttqvBx6uLmsE"
      },
      "source": [
        "# [★] get_dummies를 이용해 범주형 데이터를 one-hot 벡터로 변경하기\n",
        "X_cat = df.drop(['price', 'odometer', 'age'], axis = 1)\n",
        "X_cat = pd.get_dummies(X_cat)\n",
        "# [★] Linear Regression 하려면 drop_first 해줘야함!!!"
      ],
      "execution_count": 175,
      "outputs": []
    },
    {
      "cell_type": "code",
      "metadata": {
        "id": "nNM1S8LHLzhZ"
      },
      "source": [
        "# [★] 입출력 데이터 통합하기\n",
        "X = pd.concat([X_scaled, X_cat], axis = 1)\n",
        "y = df['price']"
      ],
      "execution_count": 176,
      "outputs": []
    },
    {
      "cell_type": "code",
      "metadata": {
        "colab": {
          "base_uri": "https://localhost:8080/"
        },
        "id": "q0r3J3Qg_q67",
        "outputId": "cac16f28-e485-4194-d73e-b5ef0d07b7e4"
      },
      "source": [
        "X.shape"
      ],
      "execution_count": null,
      "outputs": [
        {
          "output_type": "execute_result",
          "data": {
            "text/plain": [
              "(324382, 62)"
            ]
          },
          "metadata": {
            "tags": []
          },
          "execution_count": 141
        }
      ]
    },
    {
      "cell_type": "code",
      "metadata": {
        "colab": {
          "base_uri": "https://localhost:8080/"
        },
        "id": "FRSPOjILMSYy",
        "outputId": "e2915aa3-dc95-4e61-e016-247363942215"
      },
      "source": [
        "X.isnull().sum()"
      ],
      "execution_count": 180,
      "outputs": [
        {
          "output_type": "execute_result",
          "data": {
            "text/plain": [
              "odometer               0\n",
              "age                    0\n",
              "region_columbus        0\n",
              "region_fayetteville    0\n",
              "region_jacksonville    0\n",
              "                      ..\n",
              "paint_color_grey       0\n",
              "paint_color_others     0\n",
              "paint_color_red        0\n",
              "paint_color_silver     0\n",
              "paint_color_white      0\n",
              "Length: 67, dtype: int64"
            ]
          },
          "metadata": {},
          "execution_count": 180
        }
      ]
    },
    {
      "cell_type": "code",
      "metadata": {
        "id": "sUbYFTrU_0BS"
      },
      "source": [
        "X.fillna(0.0, inplace=True)"
      ],
      "execution_count": 179,
      "outputs": []
    },
    {
      "cell_type": "markdown",
      "metadata": {
        "id": "x93Tb6lptcA2"
      },
      "source": [
        "### 문제 13. 학습데이터와 테스트데이터 분리하기\n"
      ]
    },
    {
      "cell_type": "code",
      "metadata": {
        "id": "C9kMQI8SEche"
      },
      "source": [
        "from sklearn.model_selection import train_test_split"
      ],
      "execution_count": 183,
      "outputs": []
    },
    {
      "cell_type": "code",
      "metadata": {
        "id": "F07QjOFwFNEw"
      },
      "source": [
        "# [★] train_test_split() 함수로 학습 데이터와 테스트 데이터 분리하기\n",
        "X_train, X_test, y_train, y_test = train_test_split(X, y, test_size=0.3, random_state=1)"
      ],
      "execution_count": 184,
      "outputs": []
    },
    {
      "cell_type": "markdown",
      "metadata": {
        "id": "RrWrE8Z4exup"
      },
      "source": [
        "## Step 5. Regression 모델 학습하기"
      ]
    },
    {
      "cell_type": "markdown",
      "metadata": {
        "id": "NypEtNhdfCow"
      },
      "source": [
        "### 문제 14. XGBoost Regression 모델 학습하기"
      ]
    },
    {
      "cell_type": "code",
      "metadata": {
        "id": "ow28ZRL4F7D5"
      },
      "source": [
        "from xgboost import XGBRegressor"
      ],
      "execution_count": 185,
      "outputs": []
    },
    {
      "cell_type": "code",
      "metadata": {
        "id": "LSSNqFUrGM6R",
        "colab": {
          "base_uri": "https://localhost:8080/"
        },
        "outputId": "5cf8db91-8c25-4e9f-9c15-fb6e8f1a5ee9"
      },
      "source": [
        "# XGBRegressor 모델 생성/학습\n",
        "model_reg = XGBRegressor()\n",
        "model_reg.fit(X_train, y_train)"
      ],
      "execution_count": 186,
      "outputs": [
        {
          "output_type": "stream",
          "name": "stdout",
          "text": [
            "[14:11:03] WARNING: /workspace/src/objective/regression_obj.cu:152: reg:linear is now deprecated in favor of reg:squarederror.\n"
          ]
        },
        {
          "output_type": "execute_result",
          "data": {
            "text/plain": [
              "XGBRegressor(base_score=0.5, booster='gbtree', colsample_bylevel=1,\n",
              "             colsample_bynode=1, colsample_bytree=1, gamma=0,\n",
              "             importance_type='gain', learning_rate=0.1, max_delta_step=0,\n",
              "             max_depth=3, min_child_weight=1, missing=None, n_estimators=100,\n",
              "             n_jobs=1, nthread=None, objective='reg:linear', random_state=0,\n",
              "             reg_alpha=0, reg_lambda=1, scale_pos_weight=1, seed=None,\n",
              "             silent=None, subsample=1, verbosity=1)"
            ]
          },
          "metadata": {},
          "execution_count": 186
        }
      ]
    },
    {
      "cell_type": "markdown",
      "metadata": {
        "id": "gUo8NmHkfIpf"
      },
      "source": [
        "### 문제 15. 모델 학습 결과 평가하기"
      ]
    },
    {
      "cell_type": "code",
      "metadata": {
        "id": "rxvf1vgmfLs-"
      },
      "source": [
        "from sklearn.metrics import mean_absolute_error, mean_squared_error\n",
        "from math import sqrt"
      ],
      "execution_count": 187,
      "outputs": []
    },
    {
      "cell_type": "code",
      "metadata": {
        "id": "KDVy7fFGfUP1",
        "colab": {
          "base_uri": "https://localhost:8080/"
        },
        "outputId": "2551eac3-cc57-4357-9cfd-7adfeca42703"
      },
      "source": [
        "# [★] Predict를 수행하고 mean_absolute_error, rmse 결과 출력하기(단위는 원래 주어진 $, 오차가 꽤 크구나)\n",
        "pred = model_reg.predict(X_test)\n",
        "print(mean_absolute_error(y_test, pred))\n",
        "print(sqrt(mean_squared_error(y_test, pred)))"
      ],
      "execution_count": 189,
      "outputs": [
        {
          "output_type": "stream",
          "name": "stdout",
          "text": [
            "3772.2779469238535\n",
            "5597.802335491176\n"
          ]
        }
      ]
    },
    {
      "cell_type": "markdown",
      "metadata": {
        "id": "DTqb-HqPtc4I"
      },
      "source": [
        "## Step 6. 모델 학습 결과 심화 분석하기\n"
      ]
    },
    {
      "cell_type": "markdown",
      "metadata": {
        "id": "xTRTOLTNto3h"
      },
      "source": [
        "### 문제 16. 실제 값과 추측 값의 Scatter plot 시각화하기\n"
      ]
    },
    {
      "cell_type": "code",
      "metadata": {
        "id": "kKEP06-OmrBs",
        "colab": {
          "base_uri": "https://localhost:8080/",
          "height": 282
        },
        "outputId": "5a015e94-1a79-4875-8903-df0721fc2609"
      },
      "source": [
        "# [★] y_test vs. pred Scatter 플랏으로 시각적으로 분석하기\n",
        "# Hint) Scatter로 시각적 확인이 어려울 경우, histplot 등 활용\n",
        "plt.scatter(x=y_test, y=pred, alpha=0.005)\n",
        "plt.plot([0,60000], [0,60000], 'r-')\n",
        "#[★][해석] 차 값이 싼데 비싸다고 예측하는경우, 차 값이 비싼 경우 실제값보다 더 싸게 underestimate 하네"
      ],
      "execution_count": null,
      "outputs": [
        {
          "output_type": "execute_result",
          "data": {
            "text/plain": [
              "[<matplotlib.lines.Line2D at 0x7f4c374100f0>]"
            ]
          },
          "metadata": {
            "tags": []
          },
          "execution_count": 157
        },
        {
          "output_type": "display_data",
          "data": {
            "image/png": "[encoded data removed]",
            "text/plain": [
              "<Figure size 432x288 with 1 Axes>"
            ]
          },
          "metadata": {
            "tags": [],
            "needs_background": "light"
          }
        }
      ]
    },
    {
      "cell_type": "code",
      "metadata": {
        "colab": {
          "base_uri": "https://localhost:8080/",
          "height": 296
        },
        "id": "dnhNJu5sDGo1",
        "outputId": "5cd12433-9dee-466c-e736-f844f825696e"
      },
      "source": [
        "#[★] histplot으로 scatterplot을 표현할 수 있네. 그러면 좀 더 보기가 편하네\n",
        "sns.histplot(x=y_test, y=pred)\n",
        "plt.plot([0, 60000], [0, 60000], 'r-')"
      ],
      "execution_count": null,
      "outputs": [
        {
          "output_type": "execute_result",
          "data": {
            "text/plain": [
              "[<matplotlib.lines.Line2D at 0x7f4c326c0e80>]"
            ]
          },
          "metadata": {
            "tags": []
          },
          "execution_count": 172
        },
        {
          "output_type": "display_data",
          "data": {
            "image/png": "[encoded data removed]",
            "text/plain": [
              "<Figure size 432x288 with 1 Axes>"
            ]
          },
          "metadata": {
            "tags": [],
            "needs_background": "light"
          }
        }
      ]
    },
    {
      "cell_type": "markdown",
      "metadata": {
        "id": "kAisZoSEtp35"
      },
      "source": [
        "### 문제 17. 에러 값의 히스토그램 확인하기\n"
      ]
    },
    {
      "cell_type": "code",
      "metadata": {
        "id": "WLnyYNJwGRgd",
        "colab": {
          "base_uri": "https://localhost:8080/",
          "height": 279
        },
        "outputId": "ee041a02-4d75-487c-f316-ecb8537dd2cd"
      },
      "source": [
        "# [★] err의 히스토그램으로 에러율 히스토그램 확인하기\n",
        "err = (pred - y_test) / y_test * 100\n",
        "sns.histplot(err)\n",
        "plt.xlabel('error (%)')\n",
        "plt.xlim(-100, 100)\n",
        "plt.grid()\n",
        "\n",
        "#[★] 에러가 왼쪽으로 치우쳐져 있다: pred < y_test ; underestimate, 음수로 나오지는 않는다는 의미\n",
        "#오른쪽 꼬리에서는 엄청나게 차이나는 애들이 많은데, 아마 차 값이 쌀 때 많이 나오는듯\n",
        "#값이 작은데 에러가 크면 페널티를 많이 줌\n",
        "#skewed gaussian"
      ],
      "execution_count": 197,
      "outputs": [
        {
          "output_type": "display_data",
          "data": {
            "image/png": "[encoded data removed]",
            "text/plain": [
              "<Figure size 432x288 with 1 Axes>"
            ]
          },
          "metadata": {
            "needs_background": "light"
          }
        }
      ]
    },
    {
      "cell_type": "code",
      "metadata": {
        "colab": {
          "base_uri": "https://localhost:8080/",
          "height": 279
        },
        "id": "kCEsWm1GDiGl",
        "outputId": "1375d0d6-ecc7-456d-c9ae-370734e20ad3"
      },
      "source": [
        "err = (pred - y_test)\n",
        "sns.histplot(err)\n",
        "plt.xlabel('error ($)')\n",
        "plt.grid()\n",
        "# 에러의 절대값만 비교, laplacian"
      ],
      "execution_count": 198,
      "outputs": [
        {
          "output_type": "display_data",
          "data": {
            "image/png": "[encoded data removed]",
            "text/plain": [
              "<Figure size 432x288 with 1 Axes>"
            ]
          },
          "metadata": {
            "needs_background": "light"
          }
        }
      ]
    }
  ]
}